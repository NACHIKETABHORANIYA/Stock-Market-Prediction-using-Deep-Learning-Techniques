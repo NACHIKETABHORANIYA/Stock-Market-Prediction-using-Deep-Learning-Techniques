{
  "nbformat": 4,
  "nbformat_minor": 0,
  "metadata": {
    "colab": {
      "name": "Final Minor Project-Stock Market Prediction using Deep Learning Techniques.ipynb",
      "provenance": [],
      "collapsed_sections": []
    },
    "kernelspec": {
      "name": "python3",
      "display_name": "Python 3"
    },
    "language_info": {
      "name": "python"
    }
  },
  "cells": [
    {
      "cell_type": "markdown",
      "metadata": {
        "id": "HYm9ZNWD-sra"
      },
      "source": [
        "# **2CS703- Minor Project**\n",
        "\n",
        "# **Stock Market Prediction using Deep Learning Techniques**"
      ]
    },
    {
      "cell_type": "markdown",
      "metadata": {
        "id": "cFXwKvDM_HYk"
      },
      "source": [
        "Prepared by:\n",
        "## 18BCE028 - Nachiketa Bhoraniya\n",
        "## 18BCE240 - Kunj Thaker\n",
        "\n",
        "Guided by:\n",
        "## Prof. Ajaykumar Patel\n"
      ]
    },
    {
      "cell_type": "markdown",
      "metadata": {
        "id": "qEz0HOvlKiW-"
      },
      "source": [
        "### **We have used LSTM(Long Short Term Memory), CNN(Convolutional Neural Network), GRU(Gated Recurrent Unit) and RNN(Recurrent Neural Network) models to predict the stock price of AMZN dataset**\n",
        "\n",
        "Dataset is yahoo-financials AMZN datase."
      ]
    },
    {
      "cell_type": "markdown",
      "metadata": {
        "id": "tiegW4hGINf1"
      },
      "source": [
        "Installing Libraries which are required"
      ]
    },
    {
      "cell_type": "code",
      "metadata": {
        "colab": {
          "base_uri": "https://localhost:8080/"
        },
        "id": "5TYSvygI-cyk",
        "outputId": "e4ba3520-4a8a-48de-e02c-1c7803759620"
      },
      "source": [
        "!pip install yfinance\n",
        "!pip install yahoofinancials\n",
        "!pip install tensorflow\n",
        "!pip install tensorflow==1.2.0 --ignore-installed"
      ],
      "execution_count": null,
      "outputs": [
        {
          "output_type": "stream",
          "name": "stdout",
          "text": [
            "Collecting yfinance\n",
            "  Downloading yfinance-0.1.67-py2.py3-none-any.whl (25 kB)\n",
            "Requirement already satisfied: requests>=2.20 in /usr/local/lib/python3.7/dist-packages (from yfinance) (2.23.0)\n",
            "Collecting lxml>=4.5.1\n",
            "  Downloading lxml-4.6.4-cp37-cp37m-manylinux_2_17_x86_64.manylinux2014_x86_64.manylinux_2_24_x86_64.whl (6.3 MB)\n",
            "\u001b[K     |████████████████████████████████| 6.3 MB 8.1 MB/s \n",
            "\u001b[?25hRequirement already satisfied: multitasking>=0.0.7 in /usr/local/lib/python3.7/dist-packages (from yfinance) (0.0.10)\n",
            "Requirement already satisfied: pandas>=0.24 in /usr/local/lib/python3.7/dist-packages (from yfinance) (1.1.5)\n",
            "Requirement already satisfied: numpy>=1.15 in /usr/local/lib/python3.7/dist-packages (from yfinance) (1.19.5)\n",
            "Requirement already satisfied: pytz>=2017.2 in /usr/local/lib/python3.7/dist-packages (from pandas>=0.24->yfinance) (2018.9)\n",
            "Requirement already satisfied: python-dateutil>=2.7.3 in /usr/local/lib/python3.7/dist-packages (from pandas>=0.24->yfinance) (2.8.2)\n",
            "Requirement already satisfied: six>=1.5 in /usr/local/lib/python3.7/dist-packages (from python-dateutil>=2.7.3->pandas>=0.24->yfinance) (1.15.0)\n",
            "Requirement already satisfied: chardet<4,>=3.0.2 in /usr/local/lib/python3.7/dist-packages (from requests>=2.20->yfinance) (3.0.4)\n",
            "Requirement already satisfied: certifi>=2017.4.17 in /usr/local/lib/python3.7/dist-packages (from requests>=2.20->yfinance) (2021.10.8)\n",
            "Requirement already satisfied: urllib3!=1.25.0,!=1.25.1,<1.26,>=1.21.1 in /usr/local/lib/python3.7/dist-packages (from requests>=2.20->yfinance) (1.24.3)\n",
            "Requirement already satisfied: idna<3,>=2.5 in /usr/local/lib/python3.7/dist-packages (from requests>=2.20->yfinance) (2.10)\n",
            "Installing collected packages: lxml, yfinance\n",
            "  Attempting uninstall: lxml\n",
            "    Found existing installation: lxml 4.2.6\n",
            "    Uninstalling lxml-4.2.6:\n",
            "      Successfully uninstalled lxml-4.2.6\n",
            "Successfully installed lxml-4.6.4 yfinance-0.1.67\n",
            "Collecting yahoofinancials\n",
            "  Downloading yahoofinancials-1.6.tar.gz (27 kB)\n",
            "Requirement already satisfied: beautifulsoup4 in /usr/local/lib/python3.7/dist-packages (from yahoofinancials) (4.6.3)\n",
            "Requirement already satisfied: pytz in /usr/local/lib/python3.7/dist-packages (from yahoofinancials) (2018.9)\n",
            "Building wheels for collected packages: yahoofinancials\n",
            "  Building wheel for yahoofinancials (setup.py) ... \u001b[?25l\u001b[?25hdone\n",
            "  Created wheel for yahoofinancials: filename=yahoofinancials-1.6-py3-none-any.whl size=15190 sha256=59c63669030deed9a300ee9e782325e293612a056ac3331991a263470d8108a0\n",
            "  Stored in directory: /root/.cache/pip/wheels/4b/63/46/e7110bfee88685fe69e338d1b14d1748921862aa57b6705b60\n",
            "Successfully built yahoofinancials\n",
            "Installing collected packages: yahoofinancials\n",
            "Successfully installed yahoofinancials-1.6\n",
            "Requirement already satisfied: tensorflow in /usr/local/lib/python3.7/dist-packages (2.7.0)\n",
            "Requirement already satisfied: absl-py>=0.4.0 in /usr/local/lib/python3.7/dist-packages (from tensorflow) (0.12.0)\n",
            "Requirement already satisfied: google-pasta>=0.1.1 in /usr/local/lib/python3.7/dist-packages (from tensorflow) (0.2.0)\n",
            "Requirement already satisfied: tensorboard~=2.6 in /usr/local/lib/python3.7/dist-packages (from tensorflow) (2.7.0)\n",
            "Requirement already satisfied: numpy>=1.14.5 in /usr/local/lib/python3.7/dist-packages (from tensorflow) (1.19.5)\n",
            "Requirement already satisfied: opt-einsum>=2.3.2 in /usr/local/lib/python3.7/dist-packages (from tensorflow) (3.3.0)\n",
            "Requirement already satisfied: six>=1.12.0 in /usr/local/lib/python3.7/dist-packages (from tensorflow) (1.15.0)\n",
            "Requirement already satisfied: h5py>=2.9.0 in /usr/local/lib/python3.7/dist-packages (from tensorflow) (3.1.0)\n",
            "Requirement already satisfied: typing-extensions>=3.6.6 in /usr/local/lib/python3.7/dist-packages (from tensorflow) (3.10.0.2)\n",
            "Requirement already satisfied: grpcio<2.0,>=1.24.3 in /usr/local/lib/python3.7/dist-packages (from tensorflow) (1.42.0)\n",
            "Requirement already satisfied: libclang>=9.0.1 in /usr/local/lib/python3.7/dist-packages (from tensorflow) (12.0.0)\n",
            "Requirement already satisfied: keras<2.8,>=2.7.0rc0 in /usr/local/lib/python3.7/dist-packages (from tensorflow) (2.7.0)\n",
            "Requirement already satisfied: astunparse>=1.6.0 in /usr/local/lib/python3.7/dist-packages (from tensorflow) (1.6.3)\n",
            "Requirement already satisfied: wrapt>=1.11.0 in /usr/local/lib/python3.7/dist-packages (from tensorflow) (1.13.3)\n",
            "Requirement already satisfied: tensorflow-io-gcs-filesystem>=0.21.0 in /usr/local/lib/python3.7/dist-packages (from tensorflow) (0.22.0)\n",
            "Requirement already satisfied: keras-preprocessing>=1.1.1 in /usr/local/lib/python3.7/dist-packages (from tensorflow) (1.1.2)\n",
            "Requirement already satisfied: termcolor>=1.1.0 in /usr/local/lib/python3.7/dist-packages (from tensorflow) (1.1.0)\n",
            "Requirement already satisfied: gast<0.5.0,>=0.2.1 in /usr/local/lib/python3.7/dist-packages (from tensorflow) (0.4.0)\n",
            "Requirement already satisfied: wheel<1.0,>=0.32.0 in /usr/local/lib/python3.7/dist-packages (from tensorflow) (0.37.0)\n",
            "Requirement already satisfied: protobuf>=3.9.2 in /usr/local/lib/python3.7/dist-packages (from tensorflow) (3.17.3)\n",
            "Requirement already satisfied: flatbuffers<3.0,>=1.12 in /usr/local/lib/python3.7/dist-packages (from tensorflow) (2.0)\n",
            "Requirement already satisfied: tensorflow-estimator<2.8,~=2.7.0rc0 in /usr/local/lib/python3.7/dist-packages (from tensorflow) (2.7.0)\n",
            "Requirement already satisfied: cached-property in /usr/local/lib/python3.7/dist-packages (from h5py>=2.9.0->tensorflow) (1.5.2)\n",
            "Requirement already satisfied: markdown>=2.6.8 in /usr/local/lib/python3.7/dist-packages (from tensorboard~=2.6->tensorflow) (3.3.6)\n",
            "Requirement already satisfied: google-auth-oauthlib<0.5,>=0.4.1 in /usr/local/lib/python3.7/dist-packages (from tensorboard~=2.6->tensorflow) (0.4.6)\n",
            "Requirement already satisfied: werkzeug>=0.11.15 in /usr/local/lib/python3.7/dist-packages (from tensorboard~=2.6->tensorflow) (1.0.1)\n",
            "Requirement already satisfied: setuptools>=41.0.0 in /usr/local/lib/python3.7/dist-packages (from tensorboard~=2.6->tensorflow) (57.4.0)\n",
            "Requirement already satisfied: tensorboard-plugin-wit>=1.6.0 in /usr/local/lib/python3.7/dist-packages (from tensorboard~=2.6->tensorflow) (1.8.0)\n",
            "Requirement already satisfied: tensorboard-data-server<0.7.0,>=0.6.0 in /usr/local/lib/python3.7/dist-packages (from tensorboard~=2.6->tensorflow) (0.6.1)\n",
            "Requirement already satisfied: google-auth<3,>=1.6.3 in /usr/local/lib/python3.7/dist-packages (from tensorboard~=2.6->tensorflow) (1.35.0)\n",
            "Requirement already satisfied: requests<3,>=2.21.0 in /usr/local/lib/python3.7/dist-packages (from tensorboard~=2.6->tensorflow) (2.23.0)\n",
            "Requirement already satisfied: cachetools<5.0,>=2.0.0 in /usr/local/lib/python3.7/dist-packages (from google-auth<3,>=1.6.3->tensorboard~=2.6->tensorflow) (4.2.4)\n",
            "Requirement already satisfied: pyasn1-modules>=0.2.1 in /usr/local/lib/python3.7/dist-packages (from google-auth<3,>=1.6.3->tensorboard~=2.6->tensorflow) (0.2.8)\n",
            "Requirement already satisfied: rsa<5,>=3.1.4 in /usr/local/lib/python3.7/dist-packages (from google-auth<3,>=1.6.3->tensorboard~=2.6->tensorflow) (4.7.2)\n",
            "Requirement already satisfied: requests-oauthlib>=0.7.0 in /usr/local/lib/python3.7/dist-packages (from google-auth-oauthlib<0.5,>=0.4.1->tensorboard~=2.6->tensorflow) (1.3.0)\n",
            "Requirement already satisfied: importlib-metadata>=4.4 in /usr/local/lib/python3.7/dist-packages (from markdown>=2.6.8->tensorboard~=2.6->tensorflow) (4.8.2)\n",
            "Requirement already satisfied: zipp>=0.5 in /usr/local/lib/python3.7/dist-packages (from importlib-metadata>=4.4->markdown>=2.6.8->tensorboard~=2.6->tensorflow) (3.6.0)\n",
            "Requirement already satisfied: pyasn1<0.5.0,>=0.4.6 in /usr/local/lib/python3.7/dist-packages (from pyasn1-modules>=0.2.1->google-auth<3,>=1.6.3->tensorboard~=2.6->tensorflow) (0.4.8)\n",
            "Requirement already satisfied: idna<3,>=2.5 in /usr/local/lib/python3.7/dist-packages (from requests<3,>=2.21.0->tensorboard~=2.6->tensorflow) (2.10)\n",
            "Requirement already satisfied: chardet<4,>=3.0.2 in /usr/local/lib/python3.7/dist-packages (from requests<3,>=2.21.0->tensorboard~=2.6->tensorflow) (3.0.4)\n",
            "Requirement already satisfied: certifi>=2017.4.17 in /usr/local/lib/python3.7/dist-packages (from requests<3,>=2.21.0->tensorboard~=2.6->tensorflow) (2021.10.8)\n",
            "Requirement already satisfied: urllib3!=1.25.0,!=1.25.1,<1.26,>=1.21.1 in /usr/local/lib/python3.7/dist-packages (from requests<3,>=2.21.0->tensorboard~=2.6->tensorflow) (1.24.3)\n",
            "Requirement already satisfied: oauthlib>=3.0.0 in /usr/local/lib/python3.7/dist-packages (from requests-oauthlib>=0.7.0->google-auth-oauthlib<0.5,>=0.4.1->tensorboard~=2.6->tensorflow) (3.1.1)\n",
            "\u001b[31mERROR: Could not find a version that satisfies the requirement tensorflow==1.2.0 (from versions: 1.13.1, 1.13.2, 1.14.0, 1.15.0, 1.15.2, 1.15.3, 1.15.4, 1.15.5, 2.0.0, 2.0.1, 2.0.2, 2.0.3, 2.0.4, 2.1.0, 2.1.1, 2.1.2, 2.1.3, 2.1.4, 2.2.0rc0, 2.2.0rc1, 2.2.0rc2, 2.2.0rc3, 2.2.0rc4, 2.2.0, 2.2.1, 2.2.2, 2.2.3, 2.3.0rc0, 2.3.0rc1, 2.3.0rc2, 2.3.0, 2.3.1, 2.3.2, 2.3.3, 2.3.4, 2.4.0rc0, 2.4.0rc1, 2.4.0rc2, 2.4.0rc3, 2.4.0rc4, 2.4.0, 2.4.1, 2.4.2, 2.4.3, 2.4.4, 2.5.0rc0, 2.5.0rc1, 2.5.0rc2, 2.5.0rc3, 2.5.0, 2.5.1, 2.5.2, 2.6.0rc0, 2.6.0rc1, 2.6.0rc2, 2.6.0, 2.6.1, 2.6.2, 2.7.0rc0, 2.7.0rc1, 2.7.0)\u001b[0m\n",
            "\u001b[31mERROR: No matching distribution found for tensorflow==1.2.0\u001b[0m\n"
          ]
        }
      ]
    },
    {
      "cell_type": "code",
      "metadata": {
        "id": "M3SRgqg7Iq4g"
      },
      "source": [
        "import warnings\n",
        "warnings.filterwarnings(\"ignore\")"
      ],
      "execution_count": null,
      "outputs": []
    },
    {
      "cell_type": "markdown",
      "metadata": {
        "id": "FvLoE311Ic22"
      },
      "source": [
        "Importing Packages for models"
      ]
    },
    {
      "cell_type": "code",
      "metadata": {
        "id": "zn3RcLghCpvp"
      },
      "source": [
        "from statsmodels.graphics.tsaplots import plot_pacf, plot_acf\n",
        "from statsmodels.tsa.arima_process import ArmaProcess\n",
        "from statsmodels.tsa.stattools import pacf\n",
        "from statsmodels.regression.linear_model import yule_walker\n",
        "#from statsmodels.tsa.stattools import adfuller\n",
        "import matplotlib.pyplot as plt\n",
        "import numpy as np\n",
        "import pandas as pd\n",
        "import yfinance as yf\n",
        "from yahoofinancials import YahooFinancials\n",
        "import statsmodels.api as sm\n",
        "from statsmodels.tsa.arima_model import ARMA\n",
        "from matplotlib import pyplot\n",
        "from pandas.plotting import autocorrelation_plot\n",
        "from keras.models import Sequential, Model\n",
        "from keras.layers import Dense, SimpleRNN, GRU, LSTM, Dropout, Input\n",
        "from keras.layers import Conv1D,Flatten,MaxPooling1D,Bidirectional,LSTM,Dropout,TimeDistributed,MaxPool2D\n",
        "from keras.layers import Dense,GlobalAveragePooling2D\n",
        "from keras.optimizers import gradient_descent_v2"
      ],
      "execution_count": null,
      "outputs": []
    },
    {
      "cell_type": "markdown",
      "metadata": {
        "id": "aOEg09zCKbTc"
      },
      "source": [
        "Importing Amazon dataset from yahoo financials and visulize it"
      ]
    },
    {
      "cell_type": "code",
      "metadata": {
        "id": "KC4U7cRdIgh7",
        "colab": {
          "base_uri": "https://localhost:8080/",
          "height": 529
        },
        "outputId": "7bd02524-4081-4ea6-d4fe-419d4004c2e5"
      },
      "source": [
        "import pandas as pd\n",
        "import yfinance as yf\n",
        "from yahoofinancials import YahooFinancials\n",
        "AMZN = yf.download('AMZN', \n",
        "                      start='2013-01-01', \n",
        "                      end='2019-12-31', \n",
        "                      progress=False)\n",
        "# AMZN = yf.download('AMZN') for all \n",
        "all_data = AMZN[['Adj Close','Open', 'High', 'Low', 'Close', 'Volume']].round(2)\n",
        "print(all_data.head(10))\n",
        "print(\"There are \"+ str(all_data[:'2018'].shape[0]) + \" observations in the training data\")\n",
        "print(\"There are \"+ str(all_data['2019':].shape[0]) + \" observations in the test data\")\n",
        "all_data['Adj Close'].plot()\n",
        "# There are 1,510 and 251 observations in the training and test data respectively."
      ],
      "execution_count": null,
      "outputs": [
        {
          "output_type": "stream",
          "name": "stdout",
          "text": [
            "            Adj Close    Open    High     Low   Close   Volume\n",
            "Date                                                          \n",
            "2013-01-02     257.31  256.08  258.10  253.26  257.31  3271000\n",
            "2013-01-03     258.48  257.27  260.88  256.37  258.48  2750900\n",
            "2013-01-04     259.15  257.58  259.80  256.65  259.15  1874200\n",
            "2013-01-07     268.46  262.97  269.73  262.67  268.46  4910000\n",
            "2013-01-08     266.38  267.07  268.98  263.57  266.38  3010700\n",
            "2013-01-09     266.35  268.17  269.50  265.40  266.35  2265600\n",
            "2013-01-10     265.34  268.54  268.74  262.30  265.34  2863400\n",
            "2013-01-11     267.94  265.10  268.43  264.11  267.94  2413300\n",
            "2013-01-14     272.73  268.00  274.26  267.54  272.73  4275000\n",
            "2013-01-15     271.90  270.68  272.73  269.30  271.90  2326900\n",
            "There are 1510 observations in the training data\n",
            "There are 251 observations in the test data\n"
          ]
        },
        {
          "output_type": "execute_result",
          "data": {
            "text/plain": [
              "<matplotlib.axes._subplots.AxesSubplot at 0x7f5503834f50>"
            ]
          },
          "metadata": {},
          "execution_count": 5
        },
        {
          "output_type": "display_data",
          "data": {
            "image/png": "[encoded data removed]",
            "text/plain": [
              "<Figure size 432x288 with 1 Axes>"
            ]
          },
          "metadata": {
            "needs_background": "light"
          }
        }
      ]
    },
    {
      "cell_type": "markdown",
      "metadata": {
        "id": "w37LZOldKnDw"
      },
      "source": [
        "Here time_steps=10 means previous 10 day stock price are taken into considerations for_periods=5 means next 5 days"
      ]
    },
    {
      "cell_type": "code",
      "metadata": {
        "colab": {
          "base_uri": "https://localhost:8080/"
        },
        "id": "OWkzR8SyKeAF",
        "outputId": "d2903bd6-2758-48f1-dd02-30af1666eb49"
      },
      "source": [
        "def ts_train_test(all_data,time_steps,for_periods):\n",
        "    '''\n",
        "    input: \n",
        "      data: dataframe with dates and price data\n",
        "    output:\n",
        "      X_train, y_train: data from 2013/1/1-2018/12/31\n",
        "      X_test:  data from 2019 -\n",
        "    time_steps: # of the input time steps\n",
        "    for_periods: # of the output time steps\n",
        "    '''\n",
        "    # create training and test set\n",
        "    ts_train = all_data[:'2018'].iloc[:,0:1].values\n",
        "    ts_test  = all_data['2019':].iloc[:,0:1].values\n",
        "    ts_train_len = len(ts_train)\n",
        "    ts_test_len = len(ts_test)\n",
        "\n",
        "    # create training data of s samples and t time steps\n",
        "    X_train = []\n",
        "    y_train = []\n",
        "    y_train_stacked = []\n",
        "    for i in range(time_steps,ts_train_len-1): \n",
        "        X_train.append(ts_train[i-time_steps:i,0])\n",
        "        y_train.append(ts_train[i:i+for_periods,0])\n",
        "    X_train, y_train = np.array(X_train), np.array(y_train)\n",
        "\n",
        "    # Reshaping X_train for efficient modelling\n",
        "    X_train = np.reshape(X_train, (X_train.shape[0],X_train.shape[1],1))\n",
        "\n",
        "    # Preparing to create X_test\n",
        "    inputs = pd.concat((all_data[\"Adj Close\"][:'2018'], all_data[\"Adj Close\"]['2019':]),axis=0).values\n",
        "    inputs = inputs[len(inputs)-len(ts_test) - time_steps:]\n",
        "    inputs = inputs.reshape(-1,1)\n",
        "\n",
        "    X_test = []\n",
        "    for i in range(time_steps,ts_test_len+time_steps-for_periods):\n",
        "        X_test.append(inputs[i-time_steps:i,0])\n",
        "        \n",
        "    X_test = np.array(X_test)\n",
        "    X_test = np.reshape(X_test, (X_test.shape[0],X_test.shape[1],1))\n",
        "\n",
        "    return X_train, y_train , X_test\n",
        "\n",
        "X_train, y_train, X_test = ts_train_test(all_data,10,5)\n",
        "X_train.shape[0],X_train.shape[1]"
      ],
      "execution_count": null,
      "outputs": [
        {
          "output_type": "execute_result",
          "data": {
            "text/plain": [
              "(1499, 10)"
            ]
          },
          "metadata": {},
          "execution_count": 6
        }
      ]
    },
    {
      "cell_type": "code",
      "metadata": {
        "colab": {
          "base_uri": "https://localhost:8080/"
        },
        "id": "CIa3m55iK0hZ",
        "outputId": "8f688317-9d4a-4058-cee3-33f579772967"
      },
      "source": [
        "# Convert the 3-D shape of X_train to a data frame so we can see: \n",
        "X_train_see = pd.DataFrame(np.reshape(X_train, (X_train.shape[0],X_train.shape[1])))\n",
        "y_train_see = pd.DataFrame(y_train)\n",
        "pd.concat([X_train_see,y_train_see],axis=1)\n",
        "\n",
        "# Convert the 3-D shape of X_test to a data frame so we can see: \n",
        "X_test_see = pd.DataFrame(np.reshape(X_test, (X_test.shape[0],X_test.shape[1])))\n",
        "pd.DataFrame(X_test_see)\n",
        "\n",
        "print(\"There are \" + str(X_train.shape[0]) + \" samples in the training data\")\n",
        "print(\"There are \" + str(X_test.shape[0]) + \" samples in the test data\")"
      ],
      "execution_count": null,
      "outputs": [
        {
          "output_type": "stream",
          "name": "stdout",
          "text": [
            "There are 1499 samples in the training data\n",
            "There are 246 samples in the test data\n"
          ]
        }
      ]
    },
    {
      "cell_type": "code",
      "metadata": {
        "colab": {
          "base_uri": "https://localhost:8080/"
        },
        "id": "7dqIoWzlK6jP",
        "outputId": "69bd96aa-4a8b-4760-8658-2e7e4e72785f"
      },
      "source": [
        "print(X_train_see)"
      ],
      "execution_count": null,
      "outputs": [
        {
          "output_type": "stream",
          "name": "stdout",
          "text": [
            "            0        1        2        3  ...        6        7        8        9\n",
            "0      257.31   258.48   259.15   268.46  ...   265.34   267.94   272.73   271.90\n",
            "1      258.48   259.15   268.46   266.38  ...   267.94   272.73   271.90   268.93\n",
            "2      259.15   268.46   266.38   266.35  ...   272.73   271.90   268.93   270.48\n",
            "3      268.46   266.38   266.35   265.34  ...   271.90   268.93   270.48   272.12\n",
            "4      266.38   266.35   265.34   267.94  ...   268.93   270.48   272.12   270.19\n",
            "...       ...      ...      ...      ...  ...      ...      ...      ...      ...\n",
            "1494  1629.13  1641.03  1643.24  1663.54  ...  1520.91  1551.48  1495.08  1460.83\n",
            "1495  1641.03  1643.24  1663.54  1658.38  ...  1551.48  1495.08  1460.83  1377.45\n",
            "1496  1643.24  1663.54  1658.38  1591.91  ...  1495.08  1460.83  1377.45  1343.96\n",
            "1497  1663.54  1658.38  1591.91  1520.91  ...  1460.83  1377.45  1343.96  1470.90\n",
            "1498  1658.38  1591.91  1520.91  1551.48  ...  1377.45  1343.96  1470.90  1461.64\n",
            "\n",
            "[1499 rows x 10 columns]\n"
          ]
        }
      ]
    },
    {
      "cell_type": "markdown",
      "metadata": {
        "id": "ab4CNY2BOghM"
      },
      "source": [
        "Function for plotting curve and calculating MSE(Mean Squared Error) and MAE(Mean Absolute Error)"
      ]
    },
    {
      "cell_type": "code",
      "metadata": {
        "id": "LHmHvO8YOsVU"
      },
      "source": [
        "def actual_pred_plot(preds):\n",
        "    '''\n",
        "    Plot the actual vs. prediction\n",
        "    '''\n",
        "    actual_pred = pd.DataFrame(columns = ['Adj. Close', 'prediction'])\n",
        "    actual_pred['Adj. Close'] = all_data.loc['2019':,'Adj Close'][0:len(preds)]\n",
        "    actual_pred['prediction'] = preds[:,0]\n",
        "\n",
        "    from keras.metrics import MeanSquaredError\n",
        "    m = MeanSquaredError()\n",
        "    m.update_state(np.array(actual_pred['Adj. Close']),np.array(actual_pred['prediction']))\n",
        "    print(\"Mean Squared Error:\",metrics.mean_squared_error(y_true = np.array(actual_pred['Adj. Close']), y_pred = np.array(actual_pred['prediction'])))\n",
        "    print(\"Mean Absolute Error:\",metrics.mean_absolute_error(y_true = np.array(actual_pred['Adj. Close']), y_pred = np.array(actual_pred['prediction'])))\n",
        "    \n",
        "    \n",
        "    return (m.result().numpy(), actual_pred.plot() )"
      ],
      "execution_count": null,
      "outputs": []
    },
    {
      "cell_type": "markdown",
      "metadata": {
        "id": "MxXCK-jHQton"
      },
      "source": [
        "Normalize the values using MinMaxScalar"
      ]
    },
    {
      "cell_type": "code",
      "metadata": {
        "id": "wVaaG3ghQwz9"
      },
      "source": [
        "from sklearn import metrics\n",
        "def ts_train_test_normalize(all_data,time_steps,for_periods):\n",
        "    '''\n",
        "    input: \n",
        "      data: dataframe with dates and price data\n",
        "    output:\n",
        "      X_train, y_train: data from 2013/1/1-2018/12/31\n",
        "      X_test:  data from 2019 -\n",
        "      sc:      insantiated MinMaxScaler object fit to the training data\n",
        "    '''\n",
        "    # create training and test set\n",
        "    ts_train = all_data[:'2018'].iloc[:,0:1].values\n",
        "    ts_test  = all_data['2019':].iloc[:,0:1].values\n",
        "    ts_train_len = len(ts_train)\n",
        "    ts_test_len = len(ts_test)\n",
        "\n",
        "    # scale the data\n",
        "    from sklearn.preprocessing import MinMaxScaler\n",
        "    sc = MinMaxScaler(feature_range=(0,1))\n",
        "    ts_train_scaled = sc.fit_transform(ts_train)\n",
        "\n",
        "    # create training data of s samples and t time steps\n",
        "    X_train = []\n",
        "    y_train = []\n",
        "    y_train_stacked = []\n",
        "    for i in range(time_steps,ts_train_len-1): \n",
        "        X_train.append(ts_train_scaled[i-time_steps:i,0])\n",
        "        y_train.append(ts_train_scaled[i:i+for_periods,0])\n",
        "    X_train, y_train = np.array(X_train), np.array(y_train)\n",
        "\n",
        "    # Reshaping X_train for efficient modelling\n",
        "    X_train = np.reshape(X_train, (X_train.shape[0],X_train.shape[1],1))\n",
        "\n",
        "    inputs = pd.concat((all_data[\"Adj Close\"][:'2018'], all_data[\"Adj Close\"]['2019':]),axis=0).values\n",
        "    inputs = inputs[len(inputs)-len(ts_test) - time_steps:]\n",
        "    inputs = inputs.reshape(-1,1)\n",
        "    inputs  = sc.transform(inputs)\n",
        "\n",
        "    # Preparing X_test\n",
        "    X_test = []\n",
        "    for i in range(time_steps,ts_test_len+time_steps-for_periods):\n",
        "        X_test.append(inputs[i-time_steps:i,0])\n",
        "        \n",
        "    X_test = np.array(X_test)\n",
        "    X_test = np.reshape(X_test, (X_test.shape[0],X_test.shape[1], 1))\n",
        "\n",
        "    return X_train, y_train , X_test, sc"
      ],
      "execution_count": null,
      "outputs": []
    },
    {
      "cell_type": "code",
      "metadata": {
        "id": "beuperM0Q2Vb"
      },
      "source": [
        "X_train, y_train, X_test, sc = ts_train_test_normalize(all_data,10,2)"
      ],
      "execution_count": null,
      "outputs": []
    },
    {
      "cell_type": "markdown",
      "metadata": {
        "id": "ukMsB3HkCT-f"
      },
      "source": [
        "### **1)Long Short Term Memory(LSTM) Model**"
      ]
    },
    {
      "cell_type": "markdown",
      "metadata": {
        "id": "F0IZ0myNxyLK"
      },
      "source": [
        "**Why to use tanh activation function?**\n",
        "\n",
        "tanh function is symmetric about the origin, where the inputs would be normalized and they are more likely to produce outputs (which are inputs to next layer)and also, they are on an average close to zero. This is the main reasons why tanh is preferred and performs better than sigmoid (logistic)."
      ]
    },
    {
      "cell_type": "code",
      "metadata": {
        "colab": {
          "base_uri": "https://localhost:8080/"
        },
        "id": "ipL5NyRPRUPd",
        "outputId": "c3d13951-a1ad-4388-e9d3-562bad2b90cc"
      },
      "source": [
        "def LSTM_model_regularization(X_train, y_train, X_test, sc):\n",
        "    \n",
        "    # The LSTM architecture\n",
        "    my_LSTM_model = Sequential()\n",
        "    my_LSTM_model.add(LSTM(units=50, return_sequences=True, input_shape=(X_train.shape[1],1), activation='tanh'))\n",
        "\n",
        "    # dropout is done to reduce overfitting\n",
        "    my_LSTM_model.add(Dropout(0.3))\n",
        "    my_LSTM_model.add(LSTM(units=50, return_sequences=True, input_shape=(X_train.shape[1],1), activation='tanh'))\n",
        "\n",
        "    #my_LSTM_model.add(LSTM(units=50, return_sequences=True, input_shape=(X_train.shape[1],1), activation='tanh'))\n",
        "    my_LSTM_model.add(LSTM(units=50, activation='tanh'))\n",
        "\n",
        "    # dense is a fully connected layer and units defines the output shape\n",
        "    my_LSTM_model.add(Dense(units=2))\n",
        "    \n",
        "    # Compiling\n",
        "    my_LSTM_model.compile(optimizer=gradient_descent_v2.SGD(lr=0.01, decay=1e-7, momentum=0.9, nesterov=False),loss='mean_squared_error')\n",
        "    \n",
        "    # Fitting to the training set\n",
        "    my_LSTM_model.fit(X_train,y_train,epochs=100,batch_size=150, verbose=2)\n",
        "\n",
        "    #predicting stock prices\n",
        "    LSTM_prediction = my_LSTM_model.predict(X_test)\n",
        "\n",
        "    #inverse transformation to transfer prediction of LSTM network to its original range\n",
        "    LSTM_prediction = sc.inverse_transform(LSTM_prediction)\n",
        "\n",
        "    my_LSTM_model.summary()\n",
        "    return my_LSTM_model, LSTM_prediction\n",
        "\n",
        "my_LSTM_model, LSTM_prediction = LSTM_model_regularization(X_train, y_train, X_test, sc)"
      ],
      "execution_count": null,
      "outputs": [
        {
          "output_type": "stream",
          "name": "stdout",
          "text": [
            "Epoch 1/100\n",
            "10/10 - 5s - loss: 0.0957 - 5s/epoch - 526ms/step\n",
            "Epoch 2/100\n",
            "10/10 - 0s - loss: 0.0706 - 345ms/epoch - 34ms/step\n",
            "Epoch 3/100\n",
            "10/10 - 0s - loss: 0.0592 - 327ms/epoch - 33ms/step\n",
            "Epoch 4/100\n",
            "10/10 - 0s - loss: 0.0545 - 325ms/epoch - 32ms/step\n",
            "Epoch 5/100\n",
            "10/10 - 0s - loss: 0.0481 - 337ms/epoch - 34ms/step\n",
            "Epoch 6/100\n",
            "10/10 - 0s - loss: 0.0421 - 330ms/epoch - 33ms/step\n",
            "Epoch 7/100\n",
            "10/10 - 0s - loss: 0.0351 - 331ms/epoch - 33ms/step\n",
            "Epoch 8/100\n",
            "10/10 - 0s - loss: 0.0277 - 331ms/epoch - 33ms/step\n",
            "Epoch 9/100\n",
            "10/10 - 0s - loss: 0.0201 - 319ms/epoch - 32ms/step\n",
            "Epoch 10/100\n",
            "10/10 - 0s - loss: 0.0124 - 320ms/epoch - 32ms/step\n",
            "Epoch 11/100\n",
            "10/10 - 0s - loss: 0.0067 - 332ms/epoch - 33ms/step\n",
            "Epoch 12/100\n",
            "10/10 - 0s - loss: 0.0030 - 327ms/epoch - 33ms/step\n",
            "Epoch 13/100\n",
            "10/10 - 0s - loss: 0.0012 - 321ms/epoch - 32ms/step\n",
            "Epoch 14/100\n",
            "10/10 - 0s - loss: 8.3497e-04 - 332ms/epoch - 33ms/step\n",
            "Epoch 15/100\n",
            "10/10 - 0s - loss: 7.5657e-04 - 322ms/epoch - 32ms/step\n",
            "Epoch 16/100\n",
            "10/10 - 0s - loss: 7.9536e-04 - 322ms/epoch - 32ms/step\n",
            "Epoch 17/100\n",
            "10/10 - 0s - loss: 7.3629e-04 - 323ms/epoch - 32ms/step\n",
            "Epoch 18/100\n",
            "10/10 - 0s - loss: 6.9865e-04 - 319ms/epoch - 32ms/step\n",
            "Epoch 19/100\n",
            "10/10 - 0s - loss: 7.4639e-04 - 319ms/epoch - 32ms/step\n",
            "Epoch 20/100\n",
            "10/10 - 0s - loss: 7.4878e-04 - 333ms/epoch - 33ms/step\n",
            "Epoch 21/100\n",
            "10/10 - 0s - loss: 7.5034e-04 - 321ms/epoch - 32ms/step\n",
            "Epoch 22/100\n",
            "10/10 - 0s - loss: 7.5115e-04 - 319ms/epoch - 32ms/step\n",
            "Epoch 23/100\n",
            "10/10 - 0s - loss: 7.4925e-04 - 316ms/epoch - 32ms/step\n",
            "Epoch 24/100\n",
            "10/10 - 0s - loss: 8.1756e-04 - 326ms/epoch - 33ms/step\n",
            "Epoch 25/100\n",
            "10/10 - 0s - loss: 7.0010e-04 - 317ms/epoch - 32ms/step\n",
            "Epoch 26/100\n",
            "10/10 - 0s - loss: 7.0644e-04 - 315ms/epoch - 31ms/step\n",
            "Epoch 27/100\n",
            "10/10 - 0s - loss: 7.1300e-04 - 331ms/epoch - 33ms/step\n",
            "Epoch 28/100\n",
            "10/10 - 0s - loss: 7.0469e-04 - 313ms/epoch - 31ms/step\n",
            "Epoch 29/100\n",
            "10/10 - 0s - loss: 6.7991e-04 - 312ms/epoch - 31ms/step\n",
            "Epoch 30/100\n",
            "10/10 - 0s - loss: 6.9685e-04 - 328ms/epoch - 33ms/step\n",
            "Epoch 31/100\n",
            "10/10 - 0s - loss: 6.7364e-04 - 310ms/epoch - 31ms/step\n",
            "Epoch 32/100\n",
            "10/10 - 0s - loss: 7.1300e-04 - 315ms/epoch - 32ms/step\n",
            "Epoch 33/100\n",
            "10/10 - 0s - loss: 6.8589e-04 - 333ms/epoch - 33ms/step\n",
            "Epoch 34/100\n",
            "10/10 - 0s - loss: 7.1087e-04 - 315ms/epoch - 31ms/step\n",
            "Epoch 35/100\n",
            "10/10 - 0s - loss: 7.0884e-04 - 315ms/epoch - 31ms/step\n",
            "Epoch 36/100\n",
            "10/10 - 0s - loss: 6.9120e-04 - 328ms/epoch - 33ms/step\n",
            "Epoch 37/100\n",
            "10/10 - 0s - loss: 6.8622e-04 - 319ms/epoch - 32ms/step\n",
            "Epoch 38/100\n",
            "10/10 - 0s - loss: 6.4571e-04 - 322ms/epoch - 32ms/step\n",
            "Epoch 39/100\n",
            "10/10 - 0s - loss: 6.9974e-04 - 328ms/epoch - 33ms/step\n",
            "Epoch 40/100\n",
            "10/10 - 0s - loss: 7.3280e-04 - 321ms/epoch - 32ms/step\n",
            "Epoch 41/100\n",
            "10/10 - 0s - loss: 7.4258e-04 - 319ms/epoch - 32ms/step\n",
            "Epoch 42/100\n",
            "10/10 - 0s - loss: 6.9147e-04 - 340ms/epoch - 34ms/step\n",
            "Epoch 43/100\n",
            "10/10 - 0s - loss: 6.5721e-04 - 322ms/epoch - 32ms/step\n",
            "Epoch 44/100\n",
            "10/10 - 0s - loss: 6.5648e-04 - 343ms/epoch - 34ms/step\n",
            "Epoch 45/100\n",
            "10/10 - 0s - loss: 7.0477e-04 - 332ms/epoch - 33ms/step\n",
            "Epoch 46/100\n",
            "10/10 - 0s - loss: 7.2382e-04 - 325ms/epoch - 32ms/step\n",
            "Epoch 47/100\n",
            "10/10 - 0s - loss: 6.7777e-04 - 326ms/epoch - 33ms/step\n",
            "Epoch 48/100\n",
            "10/10 - 0s - loss: 6.6014e-04 - 343ms/epoch - 34ms/step\n",
            "Epoch 49/100\n",
            "10/10 - 0s - loss: 7.1650e-04 - 319ms/epoch - 32ms/step\n",
            "Epoch 50/100\n",
            "10/10 - 0s - loss: 7.2323e-04 - 320ms/epoch - 32ms/step\n",
            "Epoch 51/100\n",
            "10/10 - 0s - loss: 7.0594e-04 - 325ms/epoch - 32ms/step\n",
            "Epoch 52/100\n",
            "10/10 - 0s - loss: 7.1537e-04 - 319ms/epoch - 32ms/step\n",
            "Epoch 53/100\n",
            "10/10 - 0s - loss: 6.7979e-04 - 320ms/epoch - 32ms/step\n",
            "Epoch 54/100\n",
            "10/10 - 0s - loss: 6.9065e-04 - 320ms/epoch - 32ms/step\n",
            "Epoch 55/100\n",
            "10/10 - 0s - loss: 6.8174e-04 - 353ms/epoch - 35ms/step\n",
            "Epoch 56/100\n",
            "10/10 - 0s - loss: 6.8540e-04 - 359ms/epoch - 36ms/step\n",
            "Epoch 57/100\n",
            "10/10 - 0s - loss: 7.2485e-04 - 340ms/epoch - 34ms/step\n",
            "Epoch 58/100\n",
            "10/10 - 0s - loss: 6.9519e-04 - 336ms/epoch - 34ms/step\n",
            "Epoch 59/100\n",
            "10/10 - 0s - loss: 6.5699e-04 - 321ms/epoch - 32ms/step\n",
            "Epoch 60/100\n",
            "10/10 - 0s - loss: 6.1957e-04 - 327ms/epoch - 33ms/step\n",
            "Epoch 61/100\n",
            "10/10 - 0s - loss: 6.4400e-04 - 318ms/epoch - 32ms/step\n",
            "Epoch 62/100\n",
            "10/10 - 0s - loss: 6.2421e-04 - 317ms/epoch - 32ms/step\n",
            "Epoch 63/100\n",
            "10/10 - 0s - loss: 6.1331e-04 - 382ms/epoch - 38ms/step\n",
            "Epoch 64/100\n",
            "10/10 - 0s - loss: 7.0464e-04 - 361ms/epoch - 36ms/step\n",
            "Epoch 65/100\n",
            "10/10 - 0s - loss: 7.0432e-04 - 331ms/epoch - 33ms/step\n",
            "Epoch 66/100\n",
            "10/10 - 0s - loss: 7.1768e-04 - 332ms/epoch - 33ms/step\n",
            "Epoch 67/100\n",
            "10/10 - 0s - loss: 6.3804e-04 - 319ms/epoch - 32ms/step\n",
            "Epoch 68/100\n",
            "10/10 - 0s - loss: 6.1984e-04 - 318ms/epoch - 32ms/step\n",
            "Epoch 69/100\n",
            "10/10 - 0s - loss: 6.1170e-04 - 324ms/epoch - 32ms/step\n",
            "Epoch 70/100\n",
            "10/10 - 0s - loss: 6.4265e-04 - 320ms/epoch - 32ms/step\n",
            "Epoch 71/100\n",
            "10/10 - 0s - loss: 6.8053e-04 - 319ms/epoch - 32ms/step\n",
            "Epoch 72/100\n",
            "10/10 - 0s - loss: 6.8648e-04 - 337ms/epoch - 34ms/step\n",
            "Epoch 73/100\n",
            "10/10 - 0s - loss: 6.6468e-04 - 348ms/epoch - 35ms/step\n",
            "Epoch 74/100\n",
            "10/10 - 0s - loss: 6.0275e-04 - 329ms/epoch - 33ms/step\n",
            "Epoch 75/100\n",
            "10/10 - 0s - loss: 6.7481e-04 - 320ms/epoch - 32ms/step\n",
            "Epoch 76/100\n",
            "10/10 - 0s - loss: 6.3509e-04 - 322ms/epoch - 32ms/step\n",
            "Epoch 77/100\n",
            "10/10 - 0s - loss: 6.2789e-04 - 319ms/epoch - 32ms/step\n",
            "Epoch 78/100\n",
            "10/10 - 0s - loss: 6.8425e-04 - 340ms/epoch - 34ms/step\n",
            "Epoch 79/100\n",
            "10/10 - 0s - loss: 6.7013e-04 - 325ms/epoch - 33ms/step\n",
            "Epoch 80/100\n",
            "10/10 - 0s - loss: 6.2672e-04 - 327ms/epoch - 33ms/step\n",
            "Epoch 81/100\n",
            "10/10 - 0s - loss: 6.9378e-04 - 324ms/epoch - 32ms/step\n",
            "Epoch 82/100\n",
            "10/10 - 0s - loss: 6.7093e-04 - 328ms/epoch - 33ms/step\n",
            "Epoch 83/100\n",
            "10/10 - 0s - loss: 6.3578e-04 - 322ms/epoch - 32ms/step\n",
            "Epoch 84/100\n",
            "10/10 - 0s - loss: 6.3146e-04 - 328ms/epoch - 33ms/step\n",
            "Epoch 85/100\n",
            "10/10 - 0s - loss: 6.0509e-04 - 326ms/epoch - 33ms/step\n",
            "Epoch 86/100\n",
            "10/10 - 0s - loss: 6.3558e-04 - 322ms/epoch - 32ms/step\n",
            "Epoch 87/100\n",
            "10/10 - 0s - loss: 6.2900e-04 - 341ms/epoch - 34ms/step\n",
            "Epoch 88/100\n",
            "10/10 - 0s - loss: 6.9283e-04 - 331ms/epoch - 33ms/step\n",
            "Epoch 89/100\n",
            "10/10 - 0s - loss: 5.8613e-04 - 327ms/epoch - 33ms/step\n",
            "Epoch 90/100\n",
            "10/10 - 0s - loss: 6.6547e-04 - 322ms/epoch - 32ms/step\n",
            "Epoch 91/100\n",
            "10/10 - 0s - loss: 5.9460e-04 - 336ms/epoch - 34ms/step\n",
            "Epoch 92/100\n",
            "10/10 - 0s - loss: 6.2362e-04 - 337ms/epoch - 34ms/step\n",
            "Epoch 93/100\n",
            "10/10 - 0s - loss: 6.8362e-04 - 332ms/epoch - 33ms/step\n",
            "Epoch 94/100\n",
            "10/10 - 0s - loss: 6.3044e-04 - 324ms/epoch - 32ms/step\n",
            "Epoch 95/100\n",
            "10/10 - 0s - loss: 6.3727e-04 - 324ms/epoch - 32ms/step\n",
            "Epoch 96/100\n",
            "10/10 - 0s - loss: 6.3311e-04 - 338ms/epoch - 34ms/step\n",
            "Epoch 97/100\n",
            "10/10 - 0s - loss: 6.0330e-04 - 323ms/epoch - 32ms/step\n",
            "Epoch 98/100\n",
            "10/10 - 0s - loss: 5.8563e-04 - 316ms/epoch - 32ms/step\n",
            "Epoch 99/100\n",
            "10/10 - 0s - loss: 6.0008e-04 - 322ms/epoch - 32ms/step\n",
            "Epoch 100/100\n",
            "10/10 - 0s - loss: 7.0298e-04 - 334ms/epoch - 33ms/step\n",
            "Model: \"sequential_25\"\n",
            "_________________________________________________________________\n",
            " Layer (type)                Output Shape              Param #   \n",
            "=================================================================\n",
            " lstm_13 (LSTM)              (None, 10, 50)            10400     \n",
            "                                                                 \n",
            " dropout_12 (Dropout)        (None, 10, 50)            0         \n",
            "                                                                 \n",
            " lstm_14 (LSTM)              (None, 10, 50)            20200     \n",
            "                                                                 \n",
            " lstm_15 (LSTM)              (None, 50)                20200     \n",
            "                                                                 \n",
            " dense_16 (Dense)            (None, 2)                 102       \n",
            "                                                                 \n",
            "=================================================================\n",
            "Total params: 50,902\n",
            "Trainable params: 50,902\n",
            "Non-trainable params: 0\n",
            "_________________________________________________________________\n"
          ]
        }
      ]
    },
    {
      "cell_type": "code",
      "metadata": {
        "colab": {
          "base_uri": "https://localhost:8080/"
        },
        "id": "Lf5FI5mXKRnr",
        "outputId": "195292de-9e45-4452-b140-d97851f7eb17"
      },
      "source": [
        "LSTM_prediction[1:10]"
      ],
      "execution_count": null,
      "outputs": [
        {
          "output_type": "execute_result",
          "data": {
            "text/plain": [
              "array([[1484.3597, 1486.3893],\n",
              "       [1474.0801, 1475.8239],\n",
              "       [1474.0741, 1475.6317],\n",
              "       [1482.339 , 1483.7836],\n",
              "       [1505.6786, 1507.2502],\n",
              "       [1536.798 , 1538.6494],\n",
              "       [1554.0645, 1555.9524],\n",
              "       [1574.7078, 1576.7128],\n",
              "       [1594.2997, 1596.4513]], dtype=float32)"
            ]
          },
          "metadata": {},
          "execution_count": 59
        }
      ]
    },
    {
      "cell_type": "code",
      "metadata": {
        "colab": {
          "base_uri": "https://localhost:8080/",
          "height": 329
        },
        "id": "J5uE0mpbKT1O",
        "outputId": "8a03867d-359e-48e4-c63c-c30e8f58551a"
      },
      "source": [
        "actual_pred_plot(LSTM_prediction)"
      ],
      "execution_count": null,
      "outputs": [
        {
          "output_type": "stream",
          "name": "stdout",
          "text": [
            "Mean Squared Error: 3418.400874664436\n",
            "Mean Absolute Error: 46.30838027892821\n"
          ]
        },
        {
          "output_type": "execute_result",
          "data": {
            "text/plain": [
              "(3418.4011, <matplotlib.axes._subplots.AxesSubplot at 0x7f54eb1fa450>)"
            ]
          },
          "metadata": {},
          "execution_count": 60
        },
        {
          "output_type": "display_data",
          "data": {
            "image/png": "[encoded data removed]",
            "text/plain": [
              "<Figure size 432x288 with 1 Axes>"
            ]
          },
          "metadata": {
            "needs_background": "light"
          }
        }
      ]
    },
    {
      "cell_type": "code",
      "metadata": {
        "colab": {
          "base_uri": "https://localhost:8080/"
        },
        "id": "VaFtviQWi6Sn",
        "outputId": "ff08b90b-afa7-490a-a1e9-7b41748d8f94"
      },
      "source": [
        "print(X_train.shape)"
      ],
      "execution_count": null,
      "outputs": [
        {
          "output_type": "stream",
          "name": "stdout",
          "text": [
            "(1499, 10, 1)\n"
          ]
        }
      ]
    },
    {
      "cell_type": "code",
      "metadata": {
        "colab": {
          "base_uri": "https://localhost:8080/"
        },
        "id": "7ppl9Xezi-Vp",
        "outputId": "8be579b7-7cb1-4cc6-d678-58ab8c2b7348"
      },
      "source": [
        "print(X_train)"
      ],
      "execution_count": null,
      "outputs": [
        {
          "output_type": "stream",
          "name": "stdout",
          "text": [
            "[[[0.005069  ]\n",
            "  [0.00572217]\n",
            "  [0.0060962 ]\n",
            "  [0.0112936 ]\n",
            "  [0.01013242]]\n",
            "\n",
            " [[0.00572217]\n",
            "  [0.0060962 ]\n",
            "  [0.0112936 ]\n",
            "  [0.01013242]\n",
            "  [0.01011567]]\n",
            "\n",
            " [[0.0060962 ]\n",
            "  [0.0112936 ]\n",
            "  [0.01013242]\n",
            "  [0.01011567]\n",
            "  [0.00955183]]\n",
            "\n",
            " ...\n",
            "\n",
            " [[0.72755236]\n",
            "  [0.6960665 ]\n",
            "  [0.67694609]\n",
            "  [0.63039837]\n",
            "  [0.61170225]]\n",
            "\n",
            " [[0.6960665 ]\n",
            "  [0.67694609]\n",
            "  [0.63039837]\n",
            "  [0.61170225]\n",
            "  [0.68256777]]\n",
            "\n",
            " [[0.67694609]\n",
            "  [0.63039837]\n",
            "  [0.61170225]\n",
            "  [0.68256777]\n",
            "  [0.67739829]]]\n"
          ]
        }
      ]
    },
    {
      "cell_type": "markdown",
      "metadata": {
        "id": "51ynXVlyCf1T"
      },
      "source": [
        "## **2)Convolutional Neural Network(CNN) Model**"
      ]
    },
    {
      "cell_type": "markdown",
      "metadata": {
        "id": "EZlVD7FPyVCQ"
      },
      "source": [
        "CNN with LSTM"
      ]
    },
    {
      "cell_type": "code",
      "metadata": {
        "id": "gCeN86fx3bmE",
        "colab": {
          "base_uri": "https://localhost:8080/"
        },
        "outputId": "dd7ae0cb-f8b0-4285-dee6-11a7e95bc279"
      },
      "source": [
        "model = Sequential()\n",
        "\n",
        "#add model layers\n",
        "'''\n",
        "One reason you should consider when using ReLUs is, that they can produce dead neurons.\n",
        "That means that under certain circumstances your network can produce regions in which the\n",
        "network won't update, and the output is always 0.\n",
        "\n",
        "As a consequence, the usage of ReLU helps to prevent the exponential growth in the\n",
        "computation required to operate the neural network. If the CNN scales in size, the\n",
        "computational cost of adding extra ReLUs increases linearly.\n",
        "'''\n",
        "model.add(Conv1D(128, kernel_size=1, activation='relu', input_shape=(X_train.shape[1],1)))\n",
        "\n",
        "'''\n",
        "Max Pooling is a convolution process where the Kernel extracts the maximum value of the area\n",
        "it convolves. Max Pooling simply says to the Convolutional Neural Network that we will carry\n",
        "forward only that information, if that is the largest information available amplitude wise.\n",
        "'''\n",
        "model.add(MaxPooling1D(2))\n",
        "\n",
        "model.add(Conv1D(256, kernel_size=1, activation='relu'))\n",
        "model.add(MaxPooling1D(2))\n",
        "\n",
        "model.add(Conv1D(512, kernel_size=1, activation='relu'))\n",
        "model.add(MaxPooling1D(2))\n",
        "\n",
        "#model.add(Flatten())\n",
        "model.add(Bidirectional(LSTM(200,return_sequences=True)))\n",
        "model.add(Dropout(0.25))\n",
        "model.add(Bidirectional(LSTM(200,return_sequences=False)))\n",
        "model.add(Dropout(0.5))\n",
        "model.add(Dense(1, activation='linear'))\n",
        "model.compile(optimizer='RMSprop', loss='mse')\n",
        "model.fit(X_train, y_train, epochs=100, batch_size=150, verbose=2)\n",
        "model.summary()"
      ],
      "execution_count": null,
      "outputs": [
        {
          "output_type": "stream",
          "name": "stdout",
          "text": [
            "Epoch 1/100\n",
            "10/10 - 9s - loss: 0.0597 - 9s/epoch - 907ms/step\n",
            "Epoch 2/100\n",
            "10/10 - 1s - loss: 0.0034 - 1s/epoch - 124ms/step\n",
            "Epoch 3/100\n",
            "10/10 - 1s - loss: 0.0044 - 1s/epoch - 123ms/step\n",
            "Epoch 4/100\n",
            "10/10 - 1s - loss: 0.0081 - 1s/epoch - 122ms/step\n",
            "Epoch 5/100\n",
            "10/10 - 1s - loss: 0.0084 - 1s/epoch - 122ms/step\n",
            "Epoch 6/100\n",
            "10/10 - 1s - loss: 0.0062 - 1s/epoch - 120ms/step\n",
            "Epoch 7/100\n",
            "10/10 - 1s - loss: 0.0073 - 1s/epoch - 124ms/step\n",
            "Epoch 8/100\n",
            "10/10 - 1s - loss: 0.0063 - 1s/epoch - 119ms/step\n",
            "Epoch 9/100\n",
            "10/10 - 1s - loss: 0.0048 - 1s/epoch - 121ms/step\n",
            "Epoch 10/100\n",
            "10/10 - 1s - loss: 0.0057 - 1s/epoch - 120ms/step\n",
            "Epoch 11/100\n",
            "10/10 - 1s - loss: 0.0057 - 1s/epoch - 122ms/step\n",
            "Epoch 12/100\n",
            "10/10 - 1s - loss: 0.0048 - 1s/epoch - 119ms/step\n",
            "Epoch 13/100\n",
            "10/10 - 1s - loss: 0.0044 - 1s/epoch - 119ms/step\n",
            "Epoch 14/100\n",
            "10/10 - 1s - loss: 0.0047 - 1s/epoch - 119ms/step\n",
            "Epoch 15/100\n",
            "10/10 - 1s - loss: 0.0057 - 1s/epoch - 122ms/step\n",
            "Epoch 16/100\n",
            "10/10 - 1s - loss: 0.0039 - 1s/epoch - 119ms/step\n",
            "Epoch 17/100\n",
            "10/10 - 1s - loss: 0.0052 - 1s/epoch - 120ms/step\n",
            "Epoch 18/100\n",
            "10/10 - 1s - loss: 0.0037 - 1s/epoch - 119ms/step\n",
            "Epoch 19/100\n",
            "10/10 - 1s - loss: 0.0042 - 1s/epoch - 118ms/step\n",
            "Epoch 20/100\n",
            "10/10 - 1s - loss: 0.0037 - 1s/epoch - 120ms/step\n",
            "Epoch 21/100\n",
            "10/10 - 1s - loss: 0.0045 - 1s/epoch - 120ms/step\n",
            "Epoch 22/100\n",
            "10/10 - 1s - loss: 0.0033 - 1s/epoch - 120ms/step\n",
            "Epoch 23/100\n",
            "10/10 - 1s - loss: 0.0037 - 1s/epoch - 120ms/step\n",
            "Epoch 24/100\n",
            "10/10 - 1s - loss: 0.0028 - 1s/epoch - 121ms/step\n",
            "Epoch 25/100\n",
            "10/10 - 1s - loss: 0.0044 - 1s/epoch - 121ms/step\n",
            "Epoch 26/100\n",
            "10/10 - 1s - loss: 0.0033 - 1s/epoch - 120ms/step\n",
            "Epoch 27/100\n",
            "10/10 - 1s - loss: 0.0024 - 1s/epoch - 120ms/step\n",
            "Epoch 28/100\n",
            "10/10 - 1s - loss: 0.0033 - 1s/epoch - 121ms/step\n",
            "Epoch 29/100\n",
            "10/10 - 1s - loss: 0.0032 - 1s/epoch - 121ms/step\n",
            "Epoch 30/100\n",
            "10/10 - 1s - loss: 0.0023 - 1s/epoch - 121ms/step\n",
            "Epoch 31/100\n",
            "10/10 - 1s - loss: 0.0036 - 1s/epoch - 121ms/step\n",
            "Epoch 32/100\n",
            "10/10 - 1s - loss: 0.0022 - 1s/epoch - 120ms/step\n",
            "Epoch 33/100\n",
            "10/10 - 1s - loss: 0.0021 - 1s/epoch - 120ms/step\n",
            "Epoch 34/100\n",
            "10/10 - 1s - loss: 0.0036 - 1s/epoch - 119ms/step\n",
            "Epoch 35/100\n",
            "10/10 - 1s - loss: 0.0027 - 1s/epoch - 119ms/step\n",
            "Epoch 36/100\n",
            "10/10 - 1s - loss: 0.0020 - 1s/epoch - 120ms/step\n",
            "Epoch 37/100\n",
            "10/10 - 1s - loss: 0.0032 - 1s/epoch - 121ms/step\n",
            "Epoch 38/100\n",
            "10/10 - 1s - loss: 0.0035 - 1s/epoch - 119ms/step\n",
            "Epoch 39/100\n",
            "10/10 - 1s - loss: 0.0020 - 1s/epoch - 119ms/step\n",
            "Epoch 40/100\n",
            "10/10 - 1s - loss: 0.0028 - 1s/epoch - 119ms/step\n",
            "Epoch 41/100\n",
            "10/10 - 1s - loss: 0.0024 - 1s/epoch - 122ms/step\n",
            "Epoch 42/100\n",
            "10/10 - 1s - loss: 0.0029 - 1s/epoch - 122ms/step\n",
            "Epoch 43/100\n",
            "10/10 - 1s - loss: 0.0023 - 1s/epoch - 119ms/step\n",
            "Epoch 44/100\n",
            "10/10 - 1s - loss: 0.0024 - 1s/epoch - 121ms/step\n",
            "Epoch 45/100\n",
            "10/10 - 1s - loss: 0.0033 - 1s/epoch - 121ms/step\n",
            "Epoch 46/100\n",
            "10/10 - 1s - loss: 0.0018 - 1s/epoch - 120ms/step\n",
            "Epoch 47/100\n",
            "10/10 - 1s - loss: 0.0024 - 1s/epoch - 121ms/step\n",
            "Epoch 48/100\n",
            "10/10 - 1s - loss: 0.0019 - 1s/epoch - 120ms/step\n",
            "Epoch 49/100\n",
            "10/10 - 1s - loss: 0.0031 - 1s/epoch - 119ms/step\n",
            "Epoch 50/100\n",
            "10/10 - 1s - loss: 0.0016 - 1s/epoch - 123ms/step\n",
            "Epoch 51/100\n",
            "10/10 - 1s - loss: 0.0027 - 1s/epoch - 120ms/step\n",
            "Epoch 52/100\n",
            "10/10 - 1s - loss: 0.0022 - 1s/epoch - 121ms/step\n",
            "Epoch 53/100\n",
            "10/10 - 1s - loss: 0.0021 - 1s/epoch - 119ms/step\n",
            "Epoch 54/100\n",
            "10/10 - 1s - loss: 0.0020 - 1s/epoch - 120ms/step\n",
            "Epoch 55/100\n",
            "10/10 - 1s - loss: 0.0024 - 1s/epoch - 121ms/step\n",
            "Epoch 56/100\n",
            "10/10 - 1s - loss: 0.0024 - 1s/epoch - 120ms/step\n",
            "Epoch 57/100\n",
            "10/10 - 1s - loss: 0.0019 - 1s/epoch - 120ms/step\n",
            "Epoch 58/100\n",
            "10/10 - 1s - loss: 0.0021 - 1s/epoch - 122ms/step\n",
            "Epoch 59/100\n",
            "10/10 - 1s - loss: 0.0018 - 1s/epoch - 121ms/step\n",
            "Epoch 60/100\n",
            "10/10 - 1s - loss: 0.0024 - 1s/epoch - 121ms/step\n",
            "Epoch 61/100\n",
            "10/10 - 1s - loss: 0.0023 - 1s/epoch - 119ms/step\n",
            "Epoch 62/100\n",
            "10/10 - 1s - loss: 0.0018 - 1s/epoch - 118ms/step\n",
            "Epoch 63/100\n",
            "10/10 - 1s - loss: 0.0021 - 1s/epoch - 120ms/step\n",
            "Epoch 64/100\n",
            "10/10 - 1s - loss: 0.0025 - 1s/epoch - 121ms/step\n",
            "Epoch 65/100\n",
            "10/10 - 1s - loss: 0.0026 - 1s/epoch - 121ms/step\n",
            "Epoch 66/100\n",
            "10/10 - 1s - loss: 0.0014 - 1s/epoch - 121ms/step\n",
            "Epoch 67/100\n",
            "10/10 - 1s - loss: 0.0018 - 1s/epoch - 122ms/step\n",
            "Epoch 68/100\n",
            "10/10 - 1s - loss: 0.0026 - 1s/epoch - 120ms/step\n",
            "Epoch 69/100\n",
            "10/10 - 1s - loss: 0.0015 - 1s/epoch - 121ms/step\n",
            "Epoch 70/100\n",
            "10/10 - 1s - loss: 0.0021 - 1s/epoch - 120ms/step\n",
            "Epoch 71/100\n",
            "10/10 - 1s - loss: 0.0026 - 1s/epoch - 120ms/step\n",
            "Epoch 72/100\n",
            "10/10 - 1s - loss: 0.0015 - 1s/epoch - 119ms/step\n",
            "Epoch 73/100\n",
            "10/10 - 1s - loss: 0.0022 - 1s/epoch - 118ms/step\n",
            "Epoch 74/100\n",
            "10/10 - 1s - loss: 0.0017 - 1s/epoch - 121ms/step\n",
            "Epoch 75/100\n",
            "10/10 - 1s - loss: 0.0023 - 1s/epoch - 121ms/step\n",
            "Epoch 76/100\n",
            "10/10 - 1s - loss: 0.0018 - 1s/epoch - 122ms/step\n",
            "Epoch 77/100\n",
            "10/10 - 1s - loss: 0.0022 - 1s/epoch - 120ms/step\n",
            "Epoch 78/100\n",
            "10/10 - 1s - loss: 0.0012 - 1s/epoch - 121ms/step\n",
            "Epoch 79/100\n",
            "10/10 - 1s - loss: 0.0019 - 1s/epoch - 121ms/step\n",
            "Epoch 80/100\n",
            "10/10 - 1s - loss: 0.0026 - 1s/epoch - 121ms/step\n",
            "Epoch 81/100\n",
            "10/10 - 1s - loss: 0.0018 - 1s/epoch - 121ms/step\n",
            "Epoch 82/100\n",
            "10/10 - 1s - loss: 0.0015 - 1s/epoch - 120ms/step\n",
            "Epoch 83/100\n",
            "10/10 - 1s - loss: 0.0022 - 1s/epoch - 122ms/step\n",
            "Epoch 84/100\n",
            "10/10 - 1s - loss: 0.0014 - 1s/epoch - 120ms/step\n",
            "Epoch 85/100\n",
            "10/10 - 1s - loss: 0.0016 - 1s/epoch - 123ms/step\n",
            "Epoch 86/100\n",
            "10/10 - 1s - loss: 0.0023 - 1s/epoch - 120ms/step\n",
            "Epoch 87/100\n",
            "10/10 - 1s - loss: 0.0018 - 1s/epoch - 121ms/step\n",
            "Epoch 88/100\n",
            "10/10 - 1s - loss: 0.0019 - 1s/epoch - 119ms/step\n",
            "Epoch 89/100\n",
            "10/10 - 1s - loss: 0.0016 - 1s/epoch - 120ms/step\n",
            "Epoch 90/100\n",
            "10/10 - 1s - loss: 0.0022 - 1s/epoch - 120ms/step\n",
            "Epoch 91/100\n",
            "10/10 - 1s - loss: 0.0015 - 1s/epoch - 120ms/step\n",
            "Epoch 92/100\n",
            "10/10 - 1s - loss: 0.0018 - 1s/epoch - 118ms/step\n",
            "Epoch 93/100\n",
            "10/10 - 1s - loss: 0.0020 - 1s/epoch - 122ms/step\n",
            "Epoch 94/100\n",
            "10/10 - 1s - loss: 0.0018 - 1s/epoch - 119ms/step\n",
            "Epoch 95/100\n",
            "10/10 - 1s - loss: 0.0017 - 1s/epoch - 119ms/step\n",
            "Epoch 96/100\n",
            "10/10 - 1s - loss: 0.0013 - 1s/epoch - 122ms/step\n",
            "Epoch 97/100\n",
            "10/10 - 1s - loss: 0.0014 - 1s/epoch - 119ms/step\n",
            "Epoch 98/100\n",
            "10/10 - 1s - loss: 0.0021 - 1s/epoch - 123ms/step\n",
            "Epoch 99/100\n",
            "10/10 - 1s - loss: 0.0020 - 1s/epoch - 118ms/step\n",
            "Epoch 100/100\n",
            "10/10 - 1s - loss: 0.0017 - 1s/epoch - 121ms/step\n",
            "Model: \"sequential_13\"\n",
            "_________________________________________________________________\n",
            " Layer (type)                Output Shape              Param #   \n",
            "=================================================================\n",
            " conv1d_27 (Conv1D)          (None, 10, 128)           256       \n",
            "                                                                 \n",
            " max_pooling1d_26 (MaxPoolin  (None, 5, 128)           0         \n",
            " g1D)                                                            \n",
            "                                                                 \n",
            " conv1d_28 (Conv1D)          (None, 5, 256)            33024     \n",
            "                                                                 \n",
            " max_pooling1d_27 (MaxPoolin  (None, 2, 256)           0         \n",
            " g1D)                                                            \n",
            "                                                                 \n",
            " conv1d_29 (Conv1D)          (None, 2, 512)            131584    \n",
            "                                                                 \n",
            " max_pooling1d_28 (MaxPoolin  (None, 1, 512)           0         \n",
            " g1D)                                                            \n",
            "                                                                 \n",
            " bidirectional_8 (Bidirectio  (None, 1, 400)           1140800   \n",
            " nal)                                                            \n",
            "                                                                 \n",
            " dropout_7 (Dropout)         (None, 1, 400)            0         \n",
            "                                                                 \n",
            " bidirectional_9 (Bidirectio  (None, 400)              961600    \n",
            " nal)                                                            \n",
            "                                                                 \n",
            " dropout_8 (Dropout)         (None, 400)               0         \n",
            "                                                                 \n",
            " dense_4 (Dense)             (None, 1)                 401       \n",
            "                                                                 \n",
            "=================================================================\n",
            "Total params: 2,267,665\n",
            "Trainable params: 2,267,665\n",
            "Non-trainable params: 0\n",
            "_________________________________________________________________\n"
          ]
        }
      ]
    },
    {
      "cell_type": "code",
      "metadata": {
        "id": "QEuXA2_O3fuf",
        "colab": {
          "base_uri": "https://localhost:8080/",
          "height": 329
        },
        "outputId": "45dd55f2-caa5-43f1-9d52-2455c1df4f52"
      },
      "source": [
        "CNN_prediction = model.predict(X_test)\n",
        "CNN_prediction = sc.inverse_transform(CNN_prediction)\n",
        "\n",
        "CNN_prediction[1:10]\n",
        "actual_pred_plot(CNN_prediction)"
      ],
      "execution_count": null,
      "outputs": [
        {
          "output_type": "stream",
          "name": "stdout",
          "text": [
            "Mean Squared Error: 3440.4698497309446\n",
            "Mean Absolute Error: 47.0482219699109\n"
          ]
        },
        {
          "output_type": "execute_result",
          "data": {
            "text/plain": [
              "(3440.4705, <matplotlib.axes._subplots.AxesSubplot at 0x7f54f9f8b150>)"
            ]
          },
          "metadata": {},
          "execution_count": 38
        },
        {
          "output_type": "display_data",
          "data": {
            "image/png": "[encoded data removed]",
            "text/plain": [
              "<Figure size 432x288 with 1 Axes>"
            ]
          },
          "metadata": {
            "needs_background": "light"
          }
        }
      ]
    },
    {
      "cell_type": "markdown",
      "metadata": {
        "id": "IFQsBvUnHQZ_"
      },
      "source": [
        "# **3)Gated Recurrent Unit (GRU Model)**"
      ]
    },
    {
      "cell_type": "code",
      "metadata": {
        "colab": {
          "base_uri": "https://localhost:8080/"
        },
        "id": "qV_s2IzU3m8e",
        "outputId": "69c49675-6237-47e3-d2c6-35a20a5cc8ad"
      },
      "source": [
        "def GRU_model(X_train, y_train, X_test, sc):\n",
        "    # create a model\n",
        "    \n",
        "    # The GRU architecture\n",
        "    my_GRU_model = Sequential()\n",
        "    # First GRU layer with Dropout regularisation\n",
        "\n",
        "    my_GRU_model.add(GRU(units=60, return_sequences=True, input_shape=(X_train.shape[1],1), activation='tanh'))\n",
        "    my_LSTM_model.add(Dropout(0.3))\n",
        "\n",
        "    my_GRU_model.add(GRU(units=60, return_sequences=True, input_shape=(X_train.shape[1],1), activation='tanh'))\n",
        "    \n",
        "    #my_GRU_model.add(GRU(units=50, return_sequences=True, input_shape=(X_train.shape[1],1), activation='tanh'))\n",
        "    my_GRU_model.add(GRU(units=60, activation='tanh'))\n",
        "    my_GRU_model.add(Dense(units=2))\n",
        "\n",
        "    # Compiling the RNN\n",
        "    my_GRU_model.compile(optimizer=gradient_descent_v2.SGD(lr=0.01, decay=1e-7, momentum=0.9, nesterov=False),loss='mean_squared_error')\n",
        "    # Fitting to the training set\n",
        "    my_GRU_model.fit(X_train,y_train,epochs=100,batch_size=150, verbose=2)\n",
        "\n",
        "    GRU_prediction = my_GRU_model.predict(X_test)\n",
        "    GRU_prediction = sc.inverse_transform(GRU_prediction)\n",
        "    my_GRU_model.summary()\n",
        "    return my_GRU_model, GRU_prediction\n",
        "\n",
        "my_GRU_model, GRU_prediction = GRU_model(X_train, y_train, X_test, sc)"
      ],
      "execution_count": null,
      "outputs": [
        {
          "output_type": "stream",
          "name": "stdout",
          "text": [
            "Epoch 1/100\n",
            "10/10 - 5s - loss: 0.0805 - 5s/epoch - 538ms/step\n",
            "Epoch 2/100\n",
            "10/10 - 0s - loss: 0.0523 - 325ms/epoch - 32ms/step\n",
            "Epoch 3/100\n",
            "10/10 - 0s - loss: 0.0315 - 325ms/epoch - 32ms/step\n",
            "Epoch 4/100\n",
            "10/10 - 0s - loss: 0.0155 - 341ms/epoch - 34ms/step\n",
            "Epoch 5/100\n",
            "10/10 - 0s - loss: 0.0055 - 321ms/epoch - 32ms/step\n",
            "Epoch 6/100\n",
            "10/10 - 0s - loss: 0.0010 - 328ms/epoch - 33ms/step\n",
            "Epoch 7/100\n",
            "10/10 - 0s - loss: 3.6786e-04 - 343ms/epoch - 34ms/step\n",
            "Epoch 8/100\n",
            "10/10 - 0s - loss: 4.6563e-04 - 329ms/epoch - 33ms/step\n",
            "Epoch 9/100\n",
            "10/10 - 0s - loss: 3.9113e-04 - 324ms/epoch - 32ms/step\n",
            "Epoch 10/100\n",
            "10/10 - 0s - loss: 3.2565e-04 - 330ms/epoch - 33ms/step\n",
            "Epoch 11/100\n",
            "10/10 - 0s - loss: 3.1819e-04 - 321ms/epoch - 32ms/step\n",
            "Epoch 12/100\n",
            "10/10 - 0s - loss: 3.1673e-04 - 327ms/epoch - 33ms/step\n",
            "Epoch 13/100\n",
            "10/10 - 0s - loss: 3.1648e-04 - 329ms/epoch - 33ms/step\n",
            "Epoch 14/100\n",
            "10/10 - 0s - loss: 3.1475e-04 - 326ms/epoch - 33ms/step\n",
            "Epoch 15/100\n",
            "10/10 - 0s - loss: 3.1551e-04 - 324ms/epoch - 32ms/step\n",
            "Epoch 16/100\n",
            "10/10 - 0s - loss: 3.1606e-04 - 333ms/epoch - 33ms/step\n",
            "Epoch 17/100\n",
            "10/10 - 0s - loss: 3.1557e-04 - 371ms/epoch - 37ms/step\n",
            "Epoch 18/100\n",
            "10/10 - 0s - loss: 3.1465e-04 - 332ms/epoch - 33ms/step\n",
            "Epoch 19/100\n",
            "10/10 - 0s - loss: 3.1489e-04 - 325ms/epoch - 33ms/step\n",
            "Epoch 20/100\n",
            "10/10 - 0s - loss: 3.1509e-04 - 329ms/epoch - 33ms/step\n",
            "Epoch 21/100\n",
            "10/10 - 0s - loss: 3.1549e-04 - 326ms/epoch - 33ms/step\n",
            "Epoch 22/100\n",
            "10/10 - 0s - loss: 3.1432e-04 - 330ms/epoch - 33ms/step\n",
            "Epoch 23/100\n",
            "10/10 - 0s - loss: 3.1417e-04 - 338ms/epoch - 34ms/step\n",
            "Epoch 24/100\n",
            "10/10 - 0s - loss: 3.1500e-04 - 328ms/epoch - 33ms/step\n",
            "Epoch 25/100\n",
            "10/10 - 0s - loss: 3.1457e-04 - 346ms/epoch - 35ms/step\n",
            "Epoch 26/100\n",
            "10/10 - 0s - loss: 3.1423e-04 - 334ms/epoch - 33ms/step\n",
            "Epoch 27/100\n",
            "10/10 - 0s - loss: 3.1706e-04 - 340ms/epoch - 34ms/step\n",
            "Epoch 28/100\n",
            "10/10 - 0s - loss: 3.1806e-04 - 341ms/epoch - 34ms/step\n",
            "Epoch 29/100\n",
            "10/10 - 0s - loss: 3.2166e-04 - 328ms/epoch - 33ms/step\n",
            "Epoch 30/100\n",
            "10/10 - 0s - loss: 3.1441e-04 - 317ms/epoch - 32ms/step\n",
            "Epoch 31/100\n",
            "10/10 - 0s - loss: 3.1539e-04 - 327ms/epoch - 33ms/step\n",
            "Epoch 32/100\n",
            "10/10 - 0s - loss: 3.1469e-04 - 330ms/epoch - 33ms/step\n",
            "Epoch 33/100\n",
            "10/10 - 0s - loss: 3.1408e-04 - 318ms/epoch - 32ms/step\n",
            "Epoch 34/100\n",
            "10/10 - 0s - loss: 3.1429e-04 - 340ms/epoch - 34ms/step\n",
            "Epoch 35/100\n",
            "10/10 - 0s - loss: 3.1444e-04 - 326ms/epoch - 33ms/step\n",
            "Epoch 36/100\n",
            "10/10 - 0s - loss: 3.1538e-04 - 333ms/epoch - 33ms/step\n",
            "Epoch 37/100\n",
            "10/10 - 0s - loss: 3.1363e-04 - 333ms/epoch - 33ms/step\n",
            "Epoch 38/100\n",
            "10/10 - 0s - loss: 3.1390e-04 - 331ms/epoch - 33ms/step\n",
            "Epoch 39/100\n",
            "10/10 - 0s - loss: 3.1395e-04 - 327ms/epoch - 33ms/step\n",
            "Epoch 40/100\n",
            "10/10 - 0s - loss: 3.1436e-04 - 325ms/epoch - 33ms/step\n",
            "Epoch 41/100\n",
            "10/10 - 0s - loss: 3.1534e-04 - 325ms/epoch - 33ms/step\n",
            "Epoch 42/100\n",
            "10/10 - 0s - loss: 3.1458e-04 - 323ms/epoch - 32ms/step\n",
            "Epoch 43/100\n",
            "10/10 - 0s - loss: 3.1529e-04 - 325ms/epoch - 32ms/step\n",
            "Epoch 44/100\n",
            "10/10 - 0s - loss: 3.1575e-04 - 334ms/epoch - 33ms/step\n",
            "Epoch 45/100\n",
            "10/10 - 0s - loss: 3.1516e-04 - 319ms/epoch - 32ms/step\n",
            "Epoch 46/100\n",
            "10/10 - 0s - loss: 3.1467e-04 - 335ms/epoch - 34ms/step\n",
            "Epoch 47/100\n",
            "10/10 - 0s - loss: 3.1407e-04 - 331ms/epoch - 33ms/step\n",
            "Epoch 48/100\n",
            "10/10 - 0s - loss: 3.1366e-04 - 324ms/epoch - 32ms/step\n",
            "Epoch 49/100\n",
            "10/10 - 0s - loss: 3.1566e-04 - 317ms/epoch - 32ms/step\n",
            "Epoch 50/100\n",
            "10/10 - 0s - loss: 3.1509e-04 - 325ms/epoch - 32ms/step\n",
            "Epoch 51/100\n",
            "10/10 - 0s - loss: 3.1395e-04 - 316ms/epoch - 32ms/step\n",
            "Epoch 52/100\n",
            "10/10 - 0s - loss: 3.1510e-04 - 326ms/epoch - 33ms/step\n",
            "Epoch 53/100\n",
            "10/10 - 0s - loss: 3.1378e-04 - 339ms/epoch - 34ms/step\n",
            "Epoch 54/100\n",
            "10/10 - 0s - loss: 3.1344e-04 - 330ms/epoch - 33ms/step\n",
            "Epoch 55/100\n",
            "10/10 - 0s - loss: 3.1336e-04 - 327ms/epoch - 33ms/step\n",
            "Epoch 56/100\n",
            "10/10 - 0s - loss: 3.1350e-04 - 335ms/epoch - 34ms/step\n",
            "Epoch 57/100\n",
            "10/10 - 0s - loss: 3.1423e-04 - 325ms/epoch - 32ms/step\n",
            "Epoch 58/100\n",
            "10/10 - 0s - loss: 3.1521e-04 - 326ms/epoch - 33ms/step\n",
            "Epoch 59/100\n",
            "10/10 - 0s - loss: 3.1573e-04 - 325ms/epoch - 33ms/step\n",
            "Epoch 60/100\n",
            "10/10 - 0s - loss: 3.1400e-04 - 329ms/epoch - 33ms/step\n",
            "Epoch 61/100\n",
            "10/10 - 0s - loss: 3.1391e-04 - 327ms/epoch - 33ms/step\n",
            "Epoch 62/100\n",
            "10/10 - 0s - loss: 3.1623e-04 - 326ms/epoch - 33ms/step\n",
            "Epoch 63/100\n",
            "10/10 - 0s - loss: 3.1349e-04 - 323ms/epoch - 32ms/step\n",
            "Epoch 64/100\n",
            "10/10 - 0s - loss: 3.1316e-04 - 315ms/epoch - 32ms/step\n",
            "Epoch 65/100\n",
            "10/10 - 0s - loss: 3.1367e-04 - 330ms/epoch - 33ms/step\n",
            "Epoch 66/100\n",
            "10/10 - 0s - loss: 3.1413e-04 - 318ms/epoch - 32ms/step\n",
            "Epoch 67/100\n",
            "10/10 - 0s - loss: 3.1732e-04 - 327ms/epoch - 33ms/step\n",
            "Epoch 68/100\n",
            "10/10 - 0s - loss: 3.1669e-04 - 339ms/epoch - 34ms/step\n",
            "Epoch 69/100\n",
            "10/10 - 0s - loss: 3.1424e-04 - 323ms/epoch - 32ms/step\n",
            "Epoch 70/100\n",
            "10/10 - 0s - loss: 3.1543e-04 - 339ms/epoch - 34ms/step\n",
            "Epoch 71/100\n",
            "10/10 - 0s - loss: 3.1563e-04 - 336ms/epoch - 34ms/step\n",
            "Epoch 72/100\n",
            "10/10 - 0s - loss: 3.1566e-04 - 329ms/epoch - 33ms/step\n",
            "Epoch 73/100\n",
            "10/10 - 0s - loss: 3.1289e-04 - 362ms/epoch - 36ms/step\n",
            "Epoch 74/100\n",
            "10/10 - 0s - loss: 3.1271e-04 - 350ms/epoch - 35ms/step\n",
            "Epoch 75/100\n",
            "10/10 - 0s - loss: 3.1315e-04 - 366ms/epoch - 37ms/step\n",
            "Epoch 76/100\n",
            "10/10 - 0s - loss: 3.1288e-04 - 345ms/epoch - 34ms/step\n",
            "Epoch 77/100\n",
            "10/10 - 0s - loss: 3.1256e-04 - 335ms/epoch - 33ms/step\n",
            "Epoch 78/100\n",
            "10/10 - 0s - loss: 3.1275e-04 - 333ms/epoch - 33ms/step\n",
            "Epoch 79/100\n",
            "10/10 - 0s - loss: 3.1246e-04 - 336ms/epoch - 34ms/step\n",
            "Epoch 80/100\n",
            "10/10 - 0s - loss: 3.1327e-04 - 326ms/epoch - 33ms/step\n",
            "Epoch 81/100\n",
            "10/10 - 0s - loss: 3.1353e-04 - 332ms/epoch - 33ms/step\n",
            "Epoch 82/100\n",
            "10/10 - 0s - loss: 3.1325e-04 - 348ms/epoch - 35ms/step\n",
            "Epoch 83/100\n",
            "10/10 - 0s - loss: 3.1597e-04 - 349ms/epoch - 35ms/step\n",
            "Epoch 84/100\n",
            "10/10 - 0s - loss: 3.1507e-04 - 324ms/epoch - 32ms/step\n",
            "Epoch 85/100\n",
            "10/10 - 0s - loss: 3.1225e-04 - 321ms/epoch - 32ms/step\n",
            "Epoch 86/100\n",
            "10/10 - 0s - loss: 3.1227e-04 - 330ms/epoch - 33ms/step\n",
            "Epoch 87/100\n",
            "10/10 - 0s - loss: 3.1240e-04 - 323ms/epoch - 32ms/step\n",
            "Epoch 88/100\n",
            "10/10 - 0s - loss: 3.1322e-04 - 336ms/epoch - 34ms/step\n",
            "Epoch 89/100\n",
            "10/10 - 0s - loss: 3.1238e-04 - 330ms/epoch - 33ms/step\n",
            "Epoch 90/100\n",
            "10/10 - 0s - loss: 3.1306e-04 - 334ms/epoch - 33ms/step\n",
            "Epoch 91/100\n",
            "10/10 - 0s - loss: 3.1277e-04 - 338ms/epoch - 34ms/step\n",
            "Epoch 92/100\n",
            "10/10 - 0s - loss: 3.1324e-04 - 326ms/epoch - 33ms/step\n",
            "Epoch 93/100\n",
            "10/10 - 0s - loss: 3.1360e-04 - 320ms/epoch - 32ms/step\n",
            "Epoch 94/100\n",
            "10/10 - 0s - loss: 3.1306e-04 - 330ms/epoch - 33ms/step\n",
            "Epoch 95/100\n",
            "10/10 - 0s - loss: 3.1264e-04 - 331ms/epoch - 33ms/step\n",
            "Epoch 96/100\n",
            "10/10 - 0s - loss: 3.1333e-04 - 328ms/epoch - 33ms/step\n",
            "Epoch 97/100\n",
            "10/10 - 0s - loss: 3.1183e-04 - 324ms/epoch - 32ms/step\n",
            "Epoch 98/100\n",
            "10/10 - 0s - loss: 3.1368e-04 - 337ms/epoch - 34ms/step\n",
            "Epoch 99/100\n",
            "10/10 - 0s - loss: 3.1491e-04 - 330ms/epoch - 33ms/step\n",
            "Epoch 100/100\n",
            "10/10 - 0s - loss: 3.1454e-04 - 332ms/epoch - 33ms/step\n",
            "Model: \"sequential_16\"\n",
            "_________________________________________________________________\n",
            " Layer (type)                Output Shape              Param #   \n",
            "=================================================================\n",
            " gru_6 (GRU)                 (None, 10, 60)            11340     \n",
            "                                                                 \n",
            " gru_7 (GRU)                 (None, 10, 60)            21960     \n",
            "                                                                 \n",
            " gru_8 (GRU)                 (None, 60)                21960     \n",
            "                                                                 \n",
            " dense_7 (Dense)             (None, 2)                 122       \n",
            "                                                                 \n",
            "=================================================================\n",
            "Total params: 55,382\n",
            "Trainable params: 55,382\n",
            "Non-trainable params: 0\n",
            "_________________________________________________________________\n"
          ]
        }
      ]
    },
    {
      "cell_type": "code",
      "metadata": {
        "id": "mXMTrE273rbT",
        "colab": {
          "base_uri": "https://localhost:8080/",
          "height": 329
        },
        "outputId": "0f969eab-6f20-451f-92c3-27a80adcc38f"
      },
      "source": [
        "GRU_prediction[1:10]\n",
        "actual_pred_plot(GRU_prediction)"
      ],
      "execution_count": null,
      "outputs": [
        {
          "output_type": "stream",
          "name": "stdout",
          "text": [
            "Mean Squared Error: 1989.0982645870422\n",
            "Mean Absolute Error: 34.67462235661395\n"
          ]
        },
        {
          "output_type": "execute_result",
          "data": {
            "text/plain": [
              "(1989.0985, <matplotlib.axes._subplots.AxesSubplot at 0x7f54ee526990>)"
            ]
          },
          "metadata": {},
          "execution_count": 42
        },
        {
          "output_type": "display_data",
          "data": {
            "image/png": "[encoded data removed]",
            "text/plain": [
              "<Figure size 432x288 with 1 Axes>"
            ]
          },
          "metadata": {
            "needs_background": "light"
          }
        }
      ]
    },
    {
      "cell_type": "markdown",
      "metadata": {
        "id": "VVfQp1vlJyCn"
      },
      "source": [
        "# **4)RNN(Recurrent Neural Network) Model**"
      ]
    },
    {
      "cell_type": "code",
      "metadata": {
        "colab": {
          "base_uri": "https://localhost:8080/"
        },
        "id": "bYMQvyYBIudy",
        "outputId": "aaf3ee5e-dcd5-43a3-a08a-678ef19e256e"
      },
      "source": [
        "def simple_rnn_model(X_train, y_train, X_test, sc):\n",
        "    '''\n",
        "    create single layer rnn model trained on X_train and y_train\n",
        "    and make predictions on the X_test data\n",
        "    '''\n",
        "    # create a model\n",
        "    from keras.models import Sequential\n",
        "    from keras.layers import Dense, SimpleRNN\n",
        "    \n",
        "    my_rnn_model = Sequential()\n",
        "    my_rnn_model.add(SimpleRNN(32, return_sequences=True))\n",
        "    #my_rnn_model.add(SimpleRNN(32, return_sequences=True))\n",
        "    #my_rnn_model.add(SimpleRNN(32, return_sequences=True))\n",
        "    my_rnn_model.add(SimpleRNN(32))\n",
        "    my_rnn_model.add(Dense(2)) # The time step of the output\n",
        "\n",
        "    my_rnn_model.compile(optimizer='rmsprop', loss='mean_squared_error')\n",
        "\n",
        "    # fit the RNN model\n",
        "    my_rnn_model.fit(X_train, y_train, epochs=100, batch_size=150, verbose=2)\n",
        "    my_rnn_model.summary()\n",
        "    # Finalizing predictions\n",
        "    rnn_predictions = my_rnn_model.predict(X_test)\n",
        "    from sklearn.preprocessing import MinMaxScaler\n",
        "    rnn_predictions = sc.inverse_transform(rnn_predictions)\n",
        "\n",
        "    return my_rnn_model, rnn_predictions\n",
        "\n",
        "my_rnn_model, rnn_predictions_2 = simple_rnn_model(X_train, y_train, X_test, sc)"
      ],
      "execution_count": null,
      "outputs": [
        {
          "output_type": "stream",
          "name": "stdout",
          "text": [
            "Epoch 1/100\n",
            "10/10 - 2s - loss: 0.0330 - 2s/epoch - 170ms/step\n",
            "Epoch 2/100\n",
            "10/10 - 0s - loss: 0.0092 - 60ms/epoch - 6ms/step\n",
            "Epoch 3/100\n",
            "10/10 - 0s - loss: 0.0102 - 60ms/epoch - 6ms/step\n",
            "Epoch 4/100\n",
            "10/10 - 0s - loss: 0.0044 - 58ms/epoch - 6ms/step\n",
            "Epoch 5/100\n",
            "10/10 - 0s - loss: 0.0075 - 65ms/epoch - 6ms/step\n",
            "Epoch 6/100\n",
            "10/10 - 0s - loss: 0.0063 - 63ms/epoch - 6ms/step\n",
            "Epoch 7/100\n",
            "10/10 - 0s - loss: 0.0046 - 65ms/epoch - 6ms/step\n",
            "Epoch 8/100\n",
            "10/10 - 0s - loss: 0.0057 - 67ms/epoch - 7ms/step\n",
            "Epoch 9/100\n",
            "10/10 - 0s - loss: 0.0046 - 71ms/epoch - 7ms/step\n",
            "Epoch 10/100\n",
            "10/10 - 0s - loss: 0.0047 - 63ms/epoch - 6ms/step\n",
            "Epoch 11/100\n",
            "10/10 - 0s - loss: 0.0030 - 67ms/epoch - 7ms/step\n",
            "Epoch 12/100\n",
            "10/10 - 0s - loss: 0.0050 - 63ms/epoch - 6ms/step\n",
            "Epoch 13/100\n",
            "10/10 - 0s - loss: 0.0026 - 58ms/epoch - 6ms/step\n",
            "Epoch 14/100\n",
            "10/10 - 0s - loss: 0.0032 - 67ms/epoch - 7ms/step\n",
            "Epoch 15/100\n",
            "10/10 - 0s - loss: 0.0026 - 64ms/epoch - 6ms/step\n",
            "Epoch 16/100\n",
            "10/10 - 0s - loss: 0.0041 - 66ms/epoch - 7ms/step\n",
            "Epoch 17/100\n",
            "10/10 - 0s - loss: 0.0019 - 60ms/epoch - 6ms/step\n",
            "Epoch 18/100\n",
            "10/10 - 0s - loss: 0.0035 - 67ms/epoch - 7ms/step\n",
            "Epoch 19/100\n",
            "10/10 - 0s - loss: 0.0019 - 70ms/epoch - 7ms/step\n",
            "Epoch 20/100\n",
            "10/10 - 0s - loss: 0.0023 - 68ms/epoch - 7ms/step\n",
            "Epoch 21/100\n",
            "10/10 - 0s - loss: 0.0029 - 69ms/epoch - 7ms/step\n",
            "Epoch 22/100\n",
            "10/10 - 0s - loss: 0.0011 - 72ms/epoch - 7ms/step\n",
            "Epoch 23/100\n",
            "10/10 - 0s - loss: 0.0031 - 66ms/epoch - 7ms/step\n",
            "Epoch 24/100\n",
            "10/10 - 0s - loss: 6.4961e-04 - 83ms/epoch - 8ms/step\n",
            "Epoch 25/100\n",
            "10/10 - 0s - loss: 0.0022 - 64ms/epoch - 6ms/step\n",
            "Epoch 26/100\n",
            "10/10 - 0s - loss: 0.0019 - 65ms/epoch - 7ms/step\n",
            "Epoch 27/100\n",
            "10/10 - 0s - loss: 0.0015 - 68ms/epoch - 7ms/step\n",
            "Epoch 28/100\n",
            "10/10 - 0s - loss: 0.0018 - 68ms/epoch - 7ms/step\n",
            "Epoch 29/100\n",
            "10/10 - 0s - loss: 0.0017 - 71ms/epoch - 7ms/step\n",
            "Epoch 30/100\n",
            "10/10 - 0s - loss: 0.0016 - 67ms/epoch - 7ms/step\n",
            "Epoch 31/100\n",
            "10/10 - 0s - loss: 0.0012 - 65ms/epoch - 7ms/step\n",
            "Epoch 32/100\n",
            "10/10 - 0s - loss: 0.0016 - 67ms/epoch - 7ms/step\n",
            "Epoch 33/100\n",
            "10/10 - 0s - loss: 9.9481e-04 - 69ms/epoch - 7ms/step\n",
            "Epoch 34/100\n",
            "10/10 - 0s - loss: 0.0014 - 68ms/epoch - 7ms/step\n",
            "Epoch 35/100\n",
            "10/10 - 0s - loss: 8.6718e-04 - 64ms/epoch - 6ms/step\n",
            "Epoch 36/100\n",
            "10/10 - 0s - loss: 0.0016 - 68ms/epoch - 7ms/step\n",
            "Epoch 37/100\n",
            "10/10 - 0s - loss: 4.5953e-04 - 73ms/epoch - 7ms/step\n",
            "Epoch 38/100\n",
            "10/10 - 0s - loss: 0.0018 - 74ms/epoch - 7ms/step\n",
            "Epoch 39/100\n",
            "10/10 - 0s - loss: 6.1953e-04 - 66ms/epoch - 7ms/step\n",
            "Epoch 40/100\n",
            "10/10 - 0s - loss: 0.0014 - 66ms/epoch - 7ms/step\n",
            "Epoch 41/100\n",
            "10/10 - 0s - loss: 7.1162e-04 - 68ms/epoch - 7ms/step\n",
            "Epoch 42/100\n",
            "10/10 - 0s - loss: 0.0011 - 72ms/epoch - 7ms/step\n",
            "Epoch 43/100\n",
            "10/10 - 0s - loss: 0.0012 - 74ms/epoch - 7ms/step\n",
            "Epoch 44/100\n",
            "10/10 - 0s - loss: 6.0380e-04 - 67ms/epoch - 7ms/step\n",
            "Epoch 45/100\n",
            "10/10 - 0s - loss: 9.9988e-04 - 66ms/epoch - 7ms/step\n",
            "Epoch 46/100\n",
            "10/10 - 0s - loss: 8.7887e-04 - 60ms/epoch - 6ms/step\n",
            "Epoch 47/100\n",
            "10/10 - 0s - loss: 0.0012 - 62ms/epoch - 6ms/step\n",
            "Epoch 48/100\n",
            "10/10 - 0s - loss: 5.7238e-04 - 69ms/epoch - 7ms/step\n",
            "Epoch 49/100\n",
            "10/10 - 0s - loss: 8.3247e-04 - 64ms/epoch - 6ms/step\n",
            "Epoch 50/100\n",
            "10/10 - 0s - loss: 7.3781e-04 - 69ms/epoch - 7ms/step\n",
            "Epoch 51/100\n",
            "10/10 - 0s - loss: 5.7395e-04 - 60ms/epoch - 6ms/step\n",
            "Epoch 52/100\n",
            "10/10 - 0s - loss: 0.0011 - 79ms/epoch - 8ms/step\n",
            "Epoch 53/100\n",
            "10/10 - 0s - loss: 5.1892e-04 - 66ms/epoch - 7ms/step\n",
            "Epoch 54/100\n",
            "10/10 - 0s - loss: 8.6199e-04 - 66ms/epoch - 7ms/step\n",
            "Epoch 55/100\n",
            "10/10 - 0s - loss: 7.9188e-04 - 64ms/epoch - 6ms/step\n",
            "Epoch 56/100\n",
            "10/10 - 0s - loss: 6.4071e-04 - 64ms/epoch - 6ms/step\n",
            "Epoch 57/100\n",
            "10/10 - 0s - loss: 6.9226e-04 - 66ms/epoch - 7ms/step\n",
            "Epoch 58/100\n",
            "10/10 - 0s - loss: 6.7833e-04 - 71ms/epoch - 7ms/step\n",
            "Epoch 59/100\n",
            "10/10 - 0s - loss: 7.5609e-04 - 70ms/epoch - 7ms/step\n",
            "Epoch 60/100\n",
            "10/10 - 0s - loss: 6.9306e-04 - 64ms/epoch - 6ms/step\n",
            "Epoch 61/100\n",
            "10/10 - 0s - loss: 6.2911e-04 - 60ms/epoch - 6ms/step\n",
            "Epoch 62/100\n",
            "10/10 - 0s - loss: 5.5588e-04 - 63ms/epoch - 6ms/step\n",
            "Epoch 63/100\n",
            "10/10 - 0s - loss: 5.1285e-04 - 62ms/epoch - 6ms/step\n",
            "Epoch 64/100\n",
            "10/10 - 0s - loss: 5.6833e-04 - 63ms/epoch - 6ms/step\n",
            "Epoch 65/100\n",
            "10/10 - 0s - loss: 6.7035e-04 - 59ms/epoch - 6ms/step\n",
            "Epoch 66/100\n",
            "10/10 - 0s - loss: 7.5338e-04 - 64ms/epoch - 6ms/step\n",
            "Epoch 67/100\n",
            "10/10 - 0s - loss: 4.5506e-04 - 68ms/epoch - 7ms/step\n",
            "Epoch 68/100\n",
            "10/10 - 0s - loss: 6.3524e-04 - 59ms/epoch - 6ms/step\n",
            "Epoch 69/100\n",
            "10/10 - 0s - loss: 5.7009e-04 - 61ms/epoch - 6ms/step\n",
            "Epoch 70/100\n",
            "10/10 - 0s - loss: 4.2141e-04 - 59ms/epoch - 6ms/step\n",
            "Epoch 71/100\n",
            "10/10 - 0s - loss: 6.7797e-04 - 64ms/epoch - 6ms/step\n",
            "Epoch 72/100\n",
            "10/10 - 0s - loss: 6.1349e-04 - 63ms/epoch - 6ms/step\n",
            "Epoch 73/100\n",
            "10/10 - 0s - loss: 4.9661e-04 - 88ms/epoch - 9ms/step\n",
            "Epoch 74/100\n",
            "10/10 - 0s - loss: 4.1150e-04 - 64ms/epoch - 6ms/step\n",
            "Epoch 75/100\n",
            "10/10 - 0s - loss: 8.3375e-04 - 60ms/epoch - 6ms/step\n",
            "Epoch 76/100\n",
            "10/10 - 0s - loss: 3.5235e-04 - 59ms/epoch - 6ms/step\n",
            "Epoch 77/100\n",
            "10/10 - 0s - loss: 5.8757e-04 - 62ms/epoch - 6ms/step\n",
            "Epoch 78/100\n",
            "10/10 - 0s - loss: 4.6676e-04 - 63ms/epoch - 6ms/step\n",
            "Epoch 79/100\n",
            "10/10 - 0s - loss: 5.9841e-04 - 64ms/epoch - 6ms/step\n",
            "Epoch 80/100\n",
            "10/10 - 0s - loss: 4.4348e-04 - 64ms/epoch - 6ms/step\n",
            "Epoch 81/100\n",
            "10/10 - 0s - loss: 4.2359e-04 - 65ms/epoch - 7ms/step\n",
            "Epoch 82/100\n",
            "10/10 - 0s - loss: 4.6657e-04 - 75ms/epoch - 7ms/step\n",
            "Epoch 83/100\n",
            "10/10 - 0s - loss: 5.9063e-04 - 65ms/epoch - 7ms/step\n",
            "Epoch 84/100\n",
            "10/10 - 0s - loss: 4.3909e-04 - 64ms/epoch - 6ms/step\n",
            "Epoch 85/100\n",
            "10/10 - 0s - loss: 3.2880e-04 - 62ms/epoch - 6ms/step\n",
            "Epoch 86/100\n",
            "10/10 - 0s - loss: 6.2062e-04 - 62ms/epoch - 6ms/step\n",
            "Epoch 87/100\n",
            "10/10 - 0s - loss: 2.9896e-04 - 65ms/epoch - 7ms/step\n",
            "Epoch 88/100\n",
            "10/10 - 0s - loss: 6.1055e-04 - 64ms/epoch - 6ms/step\n",
            "Epoch 89/100\n",
            "10/10 - 0s - loss: 3.6559e-04 - 65ms/epoch - 7ms/step\n",
            "Epoch 90/100\n",
            "10/10 - 0s - loss: 5.0249e-04 - 61ms/epoch - 6ms/step\n",
            "Epoch 91/100\n",
            "10/10 - 0s - loss: 4.8230e-04 - 65ms/epoch - 6ms/step\n",
            "Epoch 92/100\n",
            "10/10 - 0s - loss: 3.3620e-04 - 67ms/epoch - 7ms/step\n",
            "Epoch 93/100\n",
            "10/10 - 0s - loss: 6.6056e-04 - 60ms/epoch - 6ms/step\n",
            "Epoch 94/100\n",
            "10/10 - 0s - loss: 2.3588e-04 - 72ms/epoch - 7ms/step\n",
            "Epoch 95/100\n",
            "10/10 - 0s - loss: 4.9700e-04 - 59ms/epoch - 6ms/step\n",
            "Epoch 96/100\n",
            "10/10 - 0s - loss: 5.1777e-04 - 60ms/epoch - 6ms/step\n",
            "Epoch 97/100\n",
            "10/10 - 0s - loss: 3.3067e-04 - 67ms/epoch - 7ms/step\n",
            "Epoch 98/100\n",
            "10/10 - 0s - loss: 4.7604e-04 - 63ms/epoch - 6ms/step\n",
            "Epoch 99/100\n",
            "10/10 - 0s - loss: 3.1788e-04 - 64ms/epoch - 6ms/step\n",
            "Epoch 100/100\n",
            "10/10 - 0s - loss: 5.2015e-04 - 63ms/epoch - 6ms/step\n",
            "Model: \"sequential_24\"\n",
            "_________________________________________________________________\n",
            " Layer (type)                Output Shape              Param #   \n",
            "=================================================================\n",
            " simple_rnn_14 (SimpleRNN)   (None, 10, 32)            1088      \n",
            "                                                                 \n",
            " simple_rnn_15 (SimpleRNN)   (None, 32)                2080      \n",
            "                                                                 \n",
            " dense_15 (Dense)            (None, 2)                 66        \n",
            "                                                                 \n",
            "=================================================================\n",
            "Total params: 3,234\n",
            "Trainable params: 3,234\n",
            "Non-trainable params: 0\n",
            "_________________________________________________________________\n"
          ]
        }
      ]
    },
    {
      "cell_type": "code",
      "metadata": {
        "id": "OqS3HFKPIwok",
        "colab": {
          "base_uri": "https://localhost:8080/",
          "height": 329
        },
        "outputId": "a6905c50-d9fd-43ee-e504-b9df43b50f0e"
      },
      "source": [
        "rnn_predictions_2[1:10]\n",
        "actual_pred_plot(rnn_predictions_2)"
      ],
      "execution_count": null,
      "outputs": [
        {
          "output_type": "stream",
          "name": "stdout",
          "text": [
            "Mean Squared Error: 3118.282000678973\n",
            "Mean Absolute Error: 50.0857102825364\n"
          ]
        },
        {
          "output_type": "execute_result",
          "data": {
            "text/plain": [
              "(3118.2822, <matplotlib.axes._subplots.AxesSubplot at 0x7f54fa17ce50>)"
            ]
          },
          "metadata": {},
          "execution_count": 57
        },
        {
          "output_type": "display_data",
          "data": {
            "image/png": "[encoded data removed]",
            "text/plain": [
              "<Figure size 432x288 with 1 Axes>"
            ]
          },
          "metadata": {
            "needs_background": "light"
          }
        }
      ]
    },
    {
      "cell_type": "code",
      "metadata": {
        "id": "UI5MK9KLJSho"
      },
      "source": [
        ""
      ],
      "execution_count": null,
      "outputs": []
    }
  ]
}